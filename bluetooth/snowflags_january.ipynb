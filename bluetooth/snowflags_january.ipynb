{
 "cells": [
  {
   "cell_type": "markdown",
   "metadata": {},
   "source": [
    "# Flagging days/periods with Snow\n",
    "\n",
    "The following code will take December 2017 data from the King Street Pilot, compare it to baseline values, and will include a flag corresponding to whether or not it snowed in the respective time period. "
   ]
  },
  {
   "cell_type": "code",
   "execution_count": 1,
   "metadata": {
    "collapsed": true
   },
   "outputs": [],
   "source": [
    "# import relevant modules\n",
    "import configparser\n",
    "from psycopg2 import connect\n",
    "import psycopg2.sql as pg\n",
    "import pandas.io.sql as pandasql\n",
    "import datetime\n",
    "\n",
    "# connect to database\n",
    "CONFIG = configparser.ConfigParser()\n",
    "CONFIG.read(r'C:\\Users\\alouis2\\Documents\\Python Scripts\\db.cfg')\n",
    "dbset = CONFIG['DBSETTINGS']\n",
    "con = connect(**dbset)"
   ]
  },
  {
   "cell_type": "code",
   "execution_count": 29,
   "metadata": {},
   "outputs": [],
   "source": [
    "# run query\n",
    "snow_periods = {datetime.date(2017,12,11):['AM Peak', 'PM Peak', 'Evening'], \n",
    "                datetime.date(2017,12,12):['AM Peak', 'Midday'],\n",
    "                datetime.date(2017,12,13):['AM Peak', 'Evening'],\n",
    "                datetime.date(2017,12,15):['Midday', 'PM Peak'],\n",
    "                datetime.date(2017,12,18):['AM Peak'],\n",
    "                datetime.date(2017,12,21):['Evening'],\n",
    "                datetime.date(2017,12,22):['AM Peak', 'Midday', 'PM Peak'],\n",
    "                datetime.date(2017,12,29):['AM Peak', 'Midday']}\n",
    "\n",
    "\n",
    "def formatter(snow_periods):\n",
    "    string = ''' dt = '%s' '''\n",
    "    for i in range(len(snow_periods)-1):\n",
    "        string = string + '''or dt = '%s' '''\n",
    "    string = string % tuple([key for key in snow_periods])\n",
    "    return  '''select pilot.dt, pilot.street, pilot.direction, pilot.period, \n",
    "                pilot.tt as pilot, baseline.tt as baseline \n",
    "                from king_pilot.dash_daily_dev as pilot,  king_pilot.dash_baseline_dev as baseline \n",
    "                where (%s)\n",
    "                and category = 'Pilot' and  pilot.day_type = 'Weekday' and pilot.street = baseline.street \n",
    "                and pilot.direction = baseline.direction and pilot.day_type = baseline.day_type \n",
    "                and pilot.period = baseline.period order by dt, street, direction, period''' % string\n",
    "\n",
    "\n",
    "\n",
    "\n",
    "def flagged(snow_periods):\n",
    "    string = formatter(snow_periods)\n",
    "    sql = pg.SQL(string)\n",
    "    snow = pandasql.read_sql(sql, con)\n",
    "    change = [snow.pilot.values[i]-snow.baseline.values[i] for i in range(len(snow))]\n",
    "    snow['change'] = change\n",
    "    flag = [0 for i in range(len(snow))]\n",
    "    snow['snow_flag'] = flag \n",
    "    for key in snow_periods:\n",
    "        for i in snow_periods[key]:\n",
    "            for j in range(len(snow)):\n",
    "                if snow.dt.values[j] == key and snow.period.values[j] == i:\n",
    "                    snow.snow_flag.values[j] += 1        \n",
    "    return snow\n",
    "\n"
   ]
  }
 ],
 "metadata": {
  "kernelspec": {
   "display_name": "Python 3",
   "language": "python",
   "name": "python3"
  },
  "language_info": {
   "codemirror_mode": {
    "name": "ipython",
    "version": 3
   },
   "file_extension": ".py",
   "mimetype": "text/x-python",
   "name": "python",
   "nbconvert_exporter": "python",
   "pygments_lexer": "ipython3",
   "version": "3.6.3"
  }
 },
 "nbformat": 4,
 "nbformat_minor": 2
}

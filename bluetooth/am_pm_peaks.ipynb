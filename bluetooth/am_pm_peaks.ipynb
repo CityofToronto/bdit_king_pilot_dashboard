{
 "cells": [
  {
   "cell_type": "code",
   "execution_count": 2,
   "metadata": {
    "collapsed": true
   },
   "outputs": [],
   "source": [
    "%matplotlib inline\n",
    "from psycopg2 import connect\n",
    "import psycopg2.sql as pg\n",
    "import configparser\n",
    "from datetime import datetime, timedelta, date\n",
    "import itertools\n",
    "import numpy as np\n",
    "import matplotlib.pyplot as plt\n",
    "import matplotlib.dates as mdates\n",
    "import pandas as pd\n",
    "import pandas.io.sql as pandasql"
   ]
  },
  {
   "cell_type": "code",
   "execution_count": 3,
   "metadata": {
    "collapsed": true
   },
   "outputs": [],
   "source": [
    "# setting up pgsql connection\n",
    "CONFIG = configparser.ConfigParser()\n",
    "CONFIG.read('db.cfg')\n",
    "dbset = CONFIG['DBSETTINGS']\n",
    "con = connect(**dbset)"
   ]
  },
  {
   "cell_type": "code",
   "execution_count": 4,
   "metadata": {},
   "outputs": [],
   "source": [
    "# Get number of days in range\n",
    "sql = pg.SQL('SELECT DISTINCT date(datetime_bin) FROM ryu4.aggr_30min')\n",
    "observations = pandasql.read_sql(sql, con)\n",
    "n_observations = len(observations)"
   ]
  },
  {
   "cell_type": "code",
   "execution_count": 54,
   "metadata": {},
   "outputs": [],
   "source": [
    "start_date = datetime.strptime('2017-09-14', '%Y-%m-%d')\n",
    "end_date =  datetime.strptime('2017-11-07', '%Y-%m-%d')\n",
    "\n",
    "sql = pg.SQL('SELECT DISTINCT analysis_id, report_name FROM ryu4.aggr_30min')\n",
    "routes = pandasql.read_sql(sql, con)\n",
    "n_routes = len(routes)\n",
    "am_period = ['05:30:00', '06:00:00', '06:30:00', '07:00:00', '07:30:00', '08:00:00', '08:30:00',\n",
    "             '09:00:00', '09:30:00', '10:00:00', '10:30:00', '11:00:00']\n",
    "\n",
    "m = 0\n",
    "n = 0\n",
    "route_am_peaks = []\n",
    "am_peak_list = []\n",
    "# Loop through all routes\n",
    "for m in range(n_routes):\n",
    "    analysis_id = routes.analysis_id.values[m]\n",
    "    am_max = ['x',0,0,0]\n",
    "    am_peak_period = 0\n",
    "    # Loop through am_period, stop when out of range\n",
    "    while am_period[n + 6] != am_period[-1]:\n",
    "        start_time = am_period[n]\n",
    "        end_time = am_period[n + 6]\n",
    "        sql = pg.SQL('''SELECT report_name, analysis_id, avg(tt) avg_tt\n",
    "                FROM ryu4.aggr_30min\n",
    "                WHERE (datetime_bin).time >= {start_time} AND (datetime_bin).time <= {end_time}\n",
    "                AND analysis_id = {analysis_id} AND weekday NOT IN (0, 6)\n",
    "                GROUP BY report_name, analysis_id''').format(start_time = pg.Literal(start_time),\n",
    "                                                        end_time = pg.Literal(end_time), \n",
    "                                                        analysis_id = pg.Literal(str(analysis_id)))\n",
    "        result = pandasql.read_sql(sql, con)\n",
    "        list_result = list(itertools.chain(result.report_name.values, result.analysis_id.values, result.avg_tt.values))\n",
    "        list_result.append(n)\n",
    "        if (list_result[2] > am_max[2]):\n",
    "            am_max = list_result\n",
    "        n += 1\n",
    "    route_am_peaks.append(am_max)\n",
    "    am_peak_list.append(am_max[3])\n",
    "    n = 0"
   ]
  },
  {
   "cell_type": "code",
   "execution_count": 63,
   "metadata": {
    "scrolled": false
   },
   "outputs": [
    {
     "data": {
      "image/png": "[encoded data removed]",
      "text/plain": [
       "<matplotlib.figure.Figure at 0xd065f28>"
      ]
     },
     "metadata": {},
     "output_type": "display_data"
    }
   ],
   "source": [
    "fig, ax = plt.subplots(1, 1, figsize=(16,9))\n",
    "am_period_labels = []\n",
    "am_peak_counts = []\n",
    "n = 0\n",
    "while am_period[n + 6] != am_period[-1]:\n",
    "    am_peak_counts.append(am_peak_list.count(n))\n",
    "    period = am_period[n] + ' - ' + am_period[n + 6]\n",
    "    am_period_labels.append(period)\n",
    "    n += 1\n",
    "index = np.arange(n)\n",
    "plt.bar(index, am_peak_counts, 0.35)\n",
    "plt.xlabel('3 Hour Periods')\n",
    "plt.ylabel('Number of BT Segments')\n",
    "plt.xticks(index, am_period_labels)\n",
    "plt.title(\"BT Segment AM Peak Period Counts Based On Travel Time\")\n",
    "plt.show()"
   ]
  },
  {
   "cell_type": "code",
   "execution_count": 61,
   "metadata": {
    "collapsed": true
   },
   "outputs": [],
   "source": [
    "pm_period = ['14:30:00', '15:00:00', '15:30:00', '16:00:00', '16:30:00', '17:00:00', '17:30:00',\n",
    "             '18:00:00', '18:30:00', '19:00:00', '19:30:00', '20:00:00']\n",
    "\n",
    "m = 0\n",
    "n = 0\n",
    "route_pm_peaks = []\n",
    "pm_peak_list = []\n",
    "# Loop through all routes\n",
    "for m in range(n_routes):\n",
    "    analysis_id = routes.analysis_id.values[m]\n",
    "    pm_max = ['x',0,0,0]\n",
    "    pm_peak_period = 0\n",
    "    # Loop through pm_period, stop when out of range\n",
    "    while pm_period[n + 6] != pm_period[-1]:\n",
    "        start_time = pm_period[n]\n",
    "        end_time = pm_period[n + 6]\n",
    "        sql = pg.SQL('''SELECT report_name, analysis_id, avg(tt) avg_tt\n",
    "                FROM ryu4.aggr_30min\n",
    "                WHERE (datetime_bin).time >= {start_time} AND (datetime_bin).time <= {end_time}\n",
    "                AND analysis_id = {analysis_id} AND weekday NOT IN (0, 6)\n",
    "                GROUP BY report_name, analysis_id''').format(start_time = pg.Literal(start_time),\n",
    "                                                        end_time = pg.Literal(end_time), \n",
    "                                                        analysis_id = pg.Literal(str(analysis_id)))\n",
    "        result = pandasql.read_sql(sql, con)\n",
    "        list_result = list(itertools.chain(result.report_name.values, result.analysis_id.values, result.avg_tt.values))\n",
    "        list_result.append(n)\n",
    "        if (list_result[2] > pm_max[2]):\n",
    "            pm_max = list_result\n",
    "        n += 1\n",
    "    route_pm_peaks.append(pm_max)\n",
    "    pm_peak_list.append(pm_max[3])\n",
    "    n = 0"
   ]
  },
  {
   "cell_type": "code",
   "execution_count": 64,
   "metadata": {},
   "outputs": [
    {
     "data": {
      "image/png": "[encoded data removed]",
      "text/plain": [
       "<matplotlib.figure.Figure at 0xbe15e10>"
      ]
     },
     "metadata": {},
     "output_type": "display_data"
    }
   ],
   "source": [
    "fig, ax = plt.subplots(1, 1, figsize=(16,9))\n",
    "pm_period_labels = []\n",
    "pm_peak_counts = []\n",
    "n = 0\n",
    "while pm_period[n + 6] != pm_period[-1]:\n",
    "    pm_peak_counts.append(pm_peak_list.count(n))\n",
    "    period = pm_period[n] + ' - ' + pm_period[n + 6]\n",
    "    pm_period_labels.append(period)\n",
    "    n += 1\n",
    "index = np.arange(n)\n",
    "plt.bar(index, pm_peak_counts, 0.35)\n",
    "plt.xlabel('3 Hour Periods')\n",
    "plt.ylabel('Number of BT Segments')\n",
    "plt.xticks(index, pm_period_labels)\n",
    "plt.title(\"BT Segment PM Peak Period Counts Based On Travel Time\")\n",
    "plt.show()"
   ]
  },
  {
   "cell_type": "code",
   "execution_count": null,
   "metadata": {
    "collapsed": true
   },
   "outputs": [],
   "source": []
  }
 ],
 "metadata": {
  "kernelspec": {
   "display_name": "Python 3",
   "language": "python",
   "name": "python3"
  },
  "language_info": {
   "codemirror_mode": {
    "name": "ipython",
    "version": 3
   },
   "file_extension": ".py",
   "mimetype": "text/x-python",
   "name": "python",
   "nbconvert_exporter": "python",
   "pygments_lexer": "ipython3",
   "version": "3.6.2"
  }
 },
 "nbformat": 4,
 "nbformat_minor": 2
}

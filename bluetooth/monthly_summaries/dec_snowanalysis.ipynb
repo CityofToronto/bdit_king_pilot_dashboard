{
 "cells": [
  {
   "cell_type": "markdown",
   "metadata": {},
   "source": [
    "# Analyzing the effect of snow on the King Street Pilot"
   ]
  },
  {
   "cell_type": "markdown",
   "metadata": {},
   "source": [
    "We first import the data frame 'snow', which contains the pilot and baseline values for all datapoints for December, in addition to a binary flag corresponding to whether or not it snowed in that time period. "
   ]
  },
  {
   "cell_type": "code",
   "execution_count": 1,
   "metadata": {
    "collapsed": true
   },
   "outputs": [],
   "source": [
    "# load snowflags\n",
    "# %load snowflags.py\n",
    "\"\"\"\n",
    "Created on Tue Jan  9 16:33:28 2018\n",
    "\n",
    "@author: alouis2\n",
    "\"\"\"\n",
    "import configparser\n",
    "from psycopg2 import connect\n",
    "import psycopg2.sql as pg\n",
    "import pandas.io.sql as pandasql\n",
    "import datetime\n",
    "\n",
    "# connect to database\n",
    "CONFIG = configparser.ConfigParser()\n",
    "CONFIG.read(r'C:\\Users\\alouis2\\Documents\\Python Scripts\\db.cfg')\n",
    "dbset = CONFIG['DBSETTINGS']\n",
    "con = connect(**dbset)\n",
    "\n",
    "# run query\n",
    "sql = pg.SQL('''select pilot.dt, pilot.street, pilot.direction, pilot.period, \n",
    "                pilot.tt as pilot, baseline.tt as baseline \n",
    "                from king_pilot.dash_daily_dev as pilot,  king_pilot.dash_baseline_dev as baseline \n",
    "                where (dt = '2017-12-11' or dt = '2017-12-12' or dt = '2017-12-13' \n",
    "                or dt = '2017-12-15' or dt = '2017-12-18' or dt = '2017-12-21' or dt = '2017-12-22' or dt = '2017-12-29')\n",
    "                and category = 'Pilot' and  pilot.day_type = 'Weekday' and pilot.street = baseline.street \n",
    "                and pilot.direction = baseline.direction and pilot.day_type = baseline.day_type \n",
    "                and pilot.period = baseline.period order by dt, street, direction, period''')\n",
    "\n",
    "snow = pandasql.read_sql(sql, con)\n",
    "\n",
    "change = [snow.pilot.values[i]-snow.baseline.values[i] for i in range(len(snow))]\n",
    "snow['change'] = change\n",
    "flag = [0 for i in range(len(snow))]\n",
    "snow['snow_flag'] = flag \n",
    "\n",
    "\n",
    "snow_periods = {datetime.date(2017,12,11):['AM Peak', 'PM Peak', 'Evening'], \n",
    "                datetime.date(2017,12,12):['AM Peak', 'Midday'],\n",
    "                datetime.date(2017,12,13):['AM Peak', 'Evening'],\n",
    "                datetime.date(2017,12,15):['Midday', 'PM Peak'],\n",
    "                datetime.date(2017,12,18):['AM Peak'],\n",
    "                datetime.date(2017,12,21):['Evening'],\n",
    "                datetime.date(2017,12,22):['AM Peak', 'Midday', 'PM Peak'],\n",
    "                datetime.date(2017,12,29):['AM Peak', 'Midday']}\n",
    "\n",
    "for key in snow_periods:\n",
    "    for i in snow_periods[key]:\n",
    "        for j in range(len(snow)):\n",
    "            if snow.dt.values[j] == key and snow.period.values[j] == i:\n",
    "                snow.snow_flag.values[j] += 1        "
   ]
  },
  {
   "cell_type": "code",
   "execution_count": 2,
   "metadata": {
    "collapsed": true
   },
   "outputs": [],
   "source": [
    "# import relevant modules\n",
    "import pandas as pd\n",
    "import statistics as s\n",
    "import datetime \n",
    "import matplotlib.pyplot as plt\n",
    "import scipy.stats as stats\n",
    "import math\n",
    "import numpy as np"
   ]
  },
  {
   "cell_type": "markdown",
   "metadata": {},
   "source": [
    "The flagged data is assigned to a variable. The summary statistics for snow can be seen in the output. It can be seen that across 301 flagged data points, there is not much difference in the means. This will be statistically proven later on in this notebook. "
   ]
  },
  {
   "cell_type": "code",
   "execution_count": 3,
   "metadata": {},
   "outputs": [
    {
     "data": {
      "text/html": [
       "<div>\n",
       "<style>\n",
       "    .dataframe thead tr:only-child th {\n",
       "        text-align: right;\n",
       "    }\n",
       "\n",
       "    .dataframe thead th {\n",
       "        text-align: left;\n",
       "    }\n",
       "\n",
       "    .dataframe tbody tr th {\n",
       "        vertical-align: top;\n",
       "    }\n",
       "</style>\n",
       "<table border=\"1\" class=\"dataframe\">\n",
       "  <thead>\n",
       "    <tr style=\"text-align: right;\">\n",
       "      <th></th>\n",
       "      <th>pilot</th>\n",
       "      <th>baseline</th>\n",
       "    </tr>\n",
       "  </thead>\n",
       "  <tbody>\n",
       "    <tr>\n",
       "      <th>count</th>\n",
       "      <td>301.000000</td>\n",
       "      <td>301.000000</td>\n",
       "    </tr>\n",
       "    <tr>\n",
       "      <th>mean</th>\n",
       "      <td>8.565234</td>\n",
       "      <td>8.512015</td>\n",
       "    </tr>\n",
       "    <tr>\n",
       "      <th>std</th>\n",
       "      <td>4.286724</td>\n",
       "      <td>3.326533</td>\n",
       "    </tr>\n",
       "    <tr>\n",
       "      <th>min</th>\n",
       "      <td>3.013426</td>\n",
       "      <td>3.010564</td>\n",
       "    </tr>\n",
       "    <tr>\n",
       "      <th>25%</th>\n",
       "      <td>5.345084</td>\n",
       "      <td>5.412162</td>\n",
       "    </tr>\n",
       "    <tr>\n",
       "      <th>50%</th>\n",
       "      <td>7.606857</td>\n",
       "      <td>8.134944</td>\n",
       "    </tr>\n",
       "    <tr>\n",
       "      <th>75%</th>\n",
       "      <td>10.626819</td>\n",
       "      <td>11.254606</td>\n",
       "    </tr>\n",
       "    <tr>\n",
       "      <th>max</th>\n",
       "      <td>28.220400</td>\n",
       "      <td>17.270516</td>\n",
       "    </tr>\n",
       "  </tbody>\n",
       "</table>\n",
       "</div>"
      ],
      "text/plain": [
       "            pilot    baseline\n",
       "count  301.000000  301.000000\n",
       "mean     8.565234    8.512015\n",
       "std      4.286724    3.326533\n",
       "min      3.013426    3.010564\n",
       "25%      5.345084    5.412162\n",
       "50%      7.606857    8.134944\n",
       "75%     10.626819   11.254606\n",
       "max     28.220400   17.270516"
      ]
     },
     "execution_count": 3,
     "metadata": {},
     "output_type": "execute_result"
    }
   ],
   "source": [
    "flagged = pd.DataFrame(snow.loc[i,] for i in range(len(snow)) if snow.loc[i,].snow_flag == 1)\n",
    "\n",
    "flagged.loc[:, ['pilot', 'baseline']].describe()"
   ]
  },
  {
   "cell_type": "markdown",
   "metadata": {},
   "source": [
    "Below are the mean travel times for flagged data points; i.e, here the pilot mean represents travel times during periods of snow fall. "
   ]
  },
  {
   "cell_type": "code",
   "execution_count": 112,
   "metadata": {},
   "outputs": [
    {
     "data": {
      "text/plain": [
       "(8.565233805600492, 8.512015087791028)"
      ]
     },
     "execution_count": 112,
     "metadata": {},
     "output_type": "execute_result"
    }
   ],
   "source": [
    "flagged['pilot'].mean(), flagged['baseline'].mean()"
   ]
  },
  {
   "cell_type": "markdown",
   "metadata": {},
   "source": [
    "We conduct a hypothesis test for the mean travel times comparing the pilot with snowfall vs the baseline. Our hypothesis of interest is: \n",
    "\n",
    "$H_o: \\mu_p = \\mu_b$\n",
    "\n",
    "\n",
    "\n",
    "$H_o: \\mu_p \\neq \\mu_b$\n"
   ]
  },
  {
   "cell_type": "code",
   "execution_count": 99,
   "metadata": {},
   "outputs": [
    {
     "data": {
      "text/plain": [
       "Ttest_indResult(statistic=0.1701630551348865, pvalue=0.86493926585252778)"
      ]
     },
     "execution_count": 99,
     "metadata": {},
     "output_type": "execute_result"
    }
   ],
   "source": [
    " stats.ttest_ind(flagged['pilot'],flagged['baseline'])"
   ]
  },
  {
   "cell_type": "markdown",
   "metadata": {},
   "source": [
    "From the above, it can be seen that the pvalue is far from the alpha level 0.05. Therefore the result is not statistically significant, and we fail to reject the null hypothesis. "
   ]
  },
  {
   "cell_type": "markdown",
   "metadata": {},
   "source": [
    "## Sectioning by Street"
   ]
  },
  {
   "cell_type": "markdown",
   "metadata": {
    "collapsed": true
   },
   "source": [
    "To make things simpler, variables are assigned flagged data corresponds to a street. See the adelaide example below. "
   ]
  },
  {
   "cell_type": "code",
   "execution_count": 8,
   "metadata": {},
   "outputs": [
    {
     "data": {
      "text/html": [
       "<div>\n",
       "<style>\n",
       "    .dataframe thead tr:only-child th {\n",
       "        text-align: right;\n",
       "    }\n",
       "\n",
       "    .dataframe thead th {\n",
       "        text-align: left;\n",
       "    }\n",
       "\n",
       "    .dataframe tbody tr th {\n",
       "        vertical-align: top;\n",
       "    }\n",
       "</style>\n",
       "<table border=\"1\" class=\"dataframe\">\n",
       "  <thead>\n",
       "    <tr style=\"text-align: right;\">\n",
       "      <th></th>\n",
       "      <th>dt</th>\n",
       "      <th>street</th>\n",
       "      <th>direction</th>\n",
       "      <th>period</th>\n",
       "      <th>pilot</th>\n",
       "      <th>baseline</th>\n",
       "      <th>change</th>\n",
       "      <th>snow_flag</th>\n",
       "    </tr>\n",
       "  </thead>\n",
       "  <tbody>\n",
       "    <tr>\n",
       "      <th>0</th>\n",
       "      <td>2017-12-11</td>\n",
       "      <td>Adelaide</td>\n",
       "      <td>Eastbound</td>\n",
       "      <td>AM Peak</td>\n",
       "      <td>7.184190</td>\n",
       "      <td>7.864729</td>\n",
       "      <td>-0.680538</td>\n",
       "      <td>1</td>\n",
       "    </tr>\n",
       "    <tr>\n",
       "      <th>1</th>\n",
       "      <td>2017-12-11</td>\n",
       "      <td>Adelaide</td>\n",
       "      <td>Eastbound</td>\n",
       "      <td>Evening</td>\n",
       "      <td>6.146098</td>\n",
       "      <td>8.071130</td>\n",
       "      <td>-1.925032</td>\n",
       "      <td>1</td>\n",
       "    </tr>\n",
       "    <tr>\n",
       "      <th>3</th>\n",
       "      <td>2017-12-11</td>\n",
       "      <td>Adelaide</td>\n",
       "      <td>Eastbound</td>\n",
       "      <td>PM Peak</td>\n",
       "      <td>25.102782</td>\n",
       "      <td>14.699972</td>\n",
       "      <td>10.402809</td>\n",
       "      <td>1</td>\n",
       "    </tr>\n",
       "    <tr>\n",
       "      <th>75</th>\n",
       "      <td>2017-12-12</td>\n",
       "      <td>Adelaide</td>\n",
       "      <td>Eastbound</td>\n",
       "      <td>AM Peak</td>\n",
       "      <td>8.557612</td>\n",
       "      <td>7.864729</td>\n",
       "      <td>0.692884</td>\n",
       "      <td>1</td>\n",
       "    </tr>\n",
       "    <tr>\n",
       "      <th>77</th>\n",
       "      <td>2017-12-12</td>\n",
       "      <td>Adelaide</td>\n",
       "      <td>Eastbound</td>\n",
       "      <td>Midday</td>\n",
       "      <td>8.474195</td>\n",
       "      <td>9.410475</td>\n",
       "      <td>-0.936280</td>\n",
       "      <td>1</td>\n",
       "    </tr>\n",
       "    <tr>\n",
       "      <th>151</th>\n",
       "      <td>2017-12-13</td>\n",
       "      <td>Adelaide</td>\n",
       "      <td>Eastbound</td>\n",
       "      <td>AM Peak</td>\n",
       "      <td>8.887768</td>\n",
       "      <td>7.864729</td>\n",
       "      <td>1.023039</td>\n",
       "      <td>1</td>\n",
       "    </tr>\n",
       "    <tr>\n",
       "      <th>152</th>\n",
       "      <td>2017-12-13</td>\n",
       "      <td>Adelaide</td>\n",
       "      <td>Eastbound</td>\n",
       "      <td>Evening</td>\n",
       "      <td>9.825963</td>\n",
       "      <td>8.071130</td>\n",
       "      <td>1.754833</td>\n",
       "      <td>1</td>\n",
       "    </tr>\n",
       "    <tr>\n",
       "      <th>229</th>\n",
       "      <td>2017-12-15</td>\n",
       "      <td>Adelaide</td>\n",
       "      <td>Eastbound</td>\n",
       "      <td>Midday</td>\n",
       "      <td>12.168755</td>\n",
       "      <td>9.410475</td>\n",
       "      <td>2.758280</td>\n",
       "      <td>1</td>\n",
       "    </tr>\n",
       "    <tr>\n",
       "      <th>230</th>\n",
       "      <td>2017-12-15</td>\n",
       "      <td>Adelaide</td>\n",
       "      <td>Eastbound</td>\n",
       "      <td>PM Peak</td>\n",
       "      <td>21.242199</td>\n",
       "      <td>14.699972</td>\n",
       "      <td>6.542227</td>\n",
       "      <td>1</td>\n",
       "    </tr>\n",
       "    <tr>\n",
       "      <th>303</th>\n",
       "      <td>2017-12-18</td>\n",
       "      <td>Adelaide</td>\n",
       "      <td>Eastbound</td>\n",
       "      <td>AM Peak</td>\n",
       "      <td>7.655922</td>\n",
       "      <td>7.864729</td>\n",
       "      <td>-0.208807</td>\n",
       "      <td>1</td>\n",
       "    </tr>\n",
       "    <tr>\n",
       "      <th>380</th>\n",
       "      <td>2017-12-21</td>\n",
       "      <td>Adelaide</td>\n",
       "      <td>Eastbound</td>\n",
       "      <td>Evening</td>\n",
       "      <td>9.331522</td>\n",
       "      <td>8.071130</td>\n",
       "      <td>1.260392</td>\n",
       "      <td>1</td>\n",
       "    </tr>\n",
       "    <tr>\n",
       "      <th>455</th>\n",
       "      <td>2017-12-22</td>\n",
       "      <td>Adelaide</td>\n",
       "      <td>Eastbound</td>\n",
       "      <td>AM Peak</td>\n",
       "      <td>7.359940</td>\n",
       "      <td>7.864729</td>\n",
       "      <td>-0.504789</td>\n",
       "      <td>1</td>\n",
       "    </tr>\n",
       "    <tr>\n",
       "      <th>457</th>\n",
       "      <td>2017-12-22</td>\n",
       "      <td>Adelaide</td>\n",
       "      <td>Eastbound</td>\n",
       "      <td>Midday</td>\n",
       "      <td>9.892888</td>\n",
       "      <td>9.410475</td>\n",
       "      <td>0.482413</td>\n",
       "      <td>1</td>\n",
       "    </tr>\n",
       "    <tr>\n",
       "      <th>458</th>\n",
       "      <td>2017-12-22</td>\n",
       "      <td>Adelaide</td>\n",
       "      <td>Eastbound</td>\n",
       "      <td>PM Peak</td>\n",
       "      <td>8.345899</td>\n",
       "      <td>14.699972</td>\n",
       "      <td>-6.354073</td>\n",
       "      <td>1</td>\n",
       "    </tr>\n",
       "  </tbody>\n",
       "</table>\n",
       "</div>"
      ],
      "text/plain": [
       "             dt    street  direction   period      pilot   baseline  \\\n",
       "0    2017-12-11  Adelaide  Eastbound  AM Peak   7.184190   7.864729   \n",
       "1    2017-12-11  Adelaide  Eastbound  Evening   6.146098   8.071130   \n",
       "3    2017-12-11  Adelaide  Eastbound  PM Peak  25.102782  14.699972   \n",
       "75   2017-12-12  Adelaide  Eastbound  AM Peak   8.557612   7.864729   \n",
       "77   2017-12-12  Adelaide  Eastbound   Midday   8.474195   9.410475   \n",
       "151  2017-12-13  Adelaide  Eastbound  AM Peak   8.887768   7.864729   \n",
       "152  2017-12-13  Adelaide  Eastbound  Evening   9.825963   8.071130   \n",
       "229  2017-12-15  Adelaide  Eastbound   Midday  12.168755   9.410475   \n",
       "230  2017-12-15  Adelaide  Eastbound  PM Peak  21.242199  14.699972   \n",
       "303  2017-12-18  Adelaide  Eastbound  AM Peak   7.655922   7.864729   \n",
       "380  2017-12-21  Adelaide  Eastbound  Evening   9.331522   8.071130   \n",
       "455  2017-12-22  Adelaide  Eastbound  AM Peak   7.359940   7.864729   \n",
       "457  2017-12-22  Adelaide  Eastbound   Midday   9.892888   9.410475   \n",
       "458  2017-12-22  Adelaide  Eastbound  PM Peak   8.345899  14.699972   \n",
       "\n",
       "        change  snow_flag  \n",
       "0    -0.680538          1  \n",
       "1    -1.925032          1  \n",
       "3    10.402809          1  \n",
       "75    0.692884          1  \n",
       "77   -0.936280          1  \n",
       "151   1.023039          1  \n",
       "152   1.754833          1  \n",
       "229   2.758280          1  \n",
       "230   6.542227          1  \n",
       "303  -0.208807          1  \n",
       "380   1.260392          1  \n",
       "455  -0.504789          1  \n",
       "457   0.482413          1  \n",
       "458  -6.354073          1  "
      ]
     },
     "execution_count": 8,
     "metadata": {},
     "output_type": "execute_result"
    }
   ],
   "source": [
    "adelaide = pd.DataFrame(snow.loc[i,] for i in range(len(snow)) if snow.loc[i,].street == 'Adelaide' and snow.loc[i,].snow_flag==1)\n",
    "bathurst = pd.DataFrame(snow.loc[i,] for i in range(len(snow)) if snow.loc[i].street == 'Bathurst' and snow.loc[i,].snow_flag==1)\n",
    "dundas = pd.DataFrame(snow.loc[i,] for i in range(len(snow)) if snow.loc[i].street == 'Dundas'and snow.loc[i,].snow_flag==1)\n",
    "front = pd.DataFrame(snow.loc[i,] for i in range(len(snow)) if snow.loc[i].street == 'Front' and snow.loc[i,].snow_flag==1)\n",
    "jarvis = pd.DataFrame(snow.loc[i,] for i in range(len(snow)) if snow.loc[i].street == 'Jarvis' and snow.loc[i,].snow_flag==1)\n",
    "queen = pd.DataFrame(snow.loc[i,] for i in range(len(snow)) if snow.loc[i].street == 'Queen'and snow.loc[i,].snow_flag==1)\n",
    "richmond = pd.DataFrame(snow.loc[i,] for i in range(len(snow)) if snow.loc[i].street == 'Richmond'and snow.loc[i,].snow_flag==1)\n",
    "spadina = pd.DataFrame(snow.loc[i,] for i in range(len(snow)) if snow.loc[i].street == 'Spadina'and snow.loc[i,].snow_flag==1)\n",
    "university = pd.DataFrame(snow.loc[i,] for i in range(len(snow)) if snow.loc[i].street == 'University'and snow.loc[i,].snow_flag==1)\n",
    "wellington = pd.DataFrame(snow.loc[i,] for i in range(len(snow)) if snow.loc[i].street == 'Wellington'and snow.loc[i,].snow_flag==1)\n",
    "yonge = pd.DataFrame(snow.loc[i,] for i in range(len(snow)) if snow.loc[i].street == 'Yonge'and snow.loc[i,].snow_flag==1)\n",
    "\n",
    "adelaide"
   ]
  },
  {
   "cell_type": "markdown",
   "metadata": {},
   "source": [
    "The mean of the pilot and baseline values during specified dates are calculated below. This is done via the groupby method in pandas, which works identically as the GROUP BY query in SQL. "
   ]
  },
  {
   "cell_type": "code",
   "execution_count": 26,
   "metadata": {},
   "outputs": [
    {
     "data": {
      "text/html": [
       "<div>\n",
       "<style>\n",
       "    .dataframe thead tr:only-child th {\n",
       "        text-align: right;\n",
       "    }\n",
       "\n",
       "    .dataframe thead th {\n",
       "        text-align: left;\n",
       "    }\n",
       "\n",
       "    .dataframe tbody tr th {\n",
       "        vertical-align: top;\n",
       "    }\n",
       "</style>\n",
       "<table border=\"1\" class=\"dataframe\">\n",
       "  <thead>\n",
       "    <tr style=\"text-align: right;\">\n",
       "      <th></th>\n",
       "      <th>dt</th>\n",
       "      <th>pilot</th>\n",
       "      <th>baseline</th>\n",
       "      <th>change</th>\n",
       "      <th>snow_flag</th>\n",
       "    </tr>\n",
       "  </thead>\n",
       "  <tbody>\n",
       "    <tr>\n",
       "      <th>0</th>\n",
       "      <td>2017-12-11</td>\n",
       "      <td>7.989421</td>\n",
       "      <td>5.074266</td>\n",
       "      <td>2.915155</td>\n",
       "      <td>1</td>\n",
       "    </tr>\n",
       "    <tr>\n",
       "      <th>1</th>\n",
       "      <td>2017-12-12</td>\n",
       "      <td>4.350528</td>\n",
       "      <td>5.018501</td>\n",
       "      <td>-0.667973</td>\n",
       "      <td>1</td>\n",
       "    </tr>\n",
       "    <tr>\n",
       "      <th>2</th>\n",
       "      <td>2017-12-13</td>\n",
       "      <td>4.187402</td>\n",
       "      <td>4.285197</td>\n",
       "      <td>-0.097795</td>\n",
       "      <td>1</td>\n",
       "    </tr>\n",
       "    <tr>\n",
       "      <th>3</th>\n",
       "      <td>2017-12-15</td>\n",
       "      <td>8.891444</td>\n",
       "      <td>6.145886</td>\n",
       "      <td>2.745558</td>\n",
       "      <td>1</td>\n",
       "    </tr>\n",
       "    <tr>\n",
       "      <th>4</th>\n",
       "      <td>2017-12-18</td>\n",
       "      <td>4.687088</td>\n",
       "      <td>4.397635</td>\n",
       "      <td>0.289452</td>\n",
       "      <td>1</td>\n",
       "    </tr>\n",
       "    <tr>\n",
       "      <th>5</th>\n",
       "      <td>2017-12-21</td>\n",
       "      <td>4.275065</td>\n",
       "      <td>4.172759</td>\n",
       "      <td>0.102306</td>\n",
       "      <td>1</td>\n",
       "    </tr>\n",
       "    <tr>\n",
       "      <th>6</th>\n",
       "      <td>2017-12-22</td>\n",
       "      <td>4.608304</td>\n",
       "      <td>5.563135</td>\n",
       "      <td>-0.954832</td>\n",
       "      <td>1</td>\n",
       "    </tr>\n",
       "    <tr>\n",
       "      <th>7</th>\n",
       "      <td>2017-12-29</td>\n",
       "      <td>3.682889</td>\n",
       "      <td>5.018501</td>\n",
       "      <td>-1.335613</td>\n",
       "      <td>1</td>\n",
       "    </tr>\n",
       "  </tbody>\n",
       "</table>\n",
       "</div>"
      ],
      "text/plain": [
       "           dt     pilot  baseline    change  snow_flag\n",
       "0  2017-12-11  7.989421  5.074266  2.915155          1\n",
       "1  2017-12-12  4.350528  5.018501 -0.667973          1\n",
       "2  2017-12-13  4.187402  4.285197 -0.097795          1\n",
       "3  2017-12-15  8.891444  6.145886  2.745558          1\n",
       "4  2017-12-18  4.687088  4.397635  0.289452          1\n",
       "5  2017-12-21  4.275065  4.172759  0.102306          1\n",
       "6  2017-12-22  4.608304  5.563135 -0.954832          1\n",
       "7  2017-12-29  3.682889  5.018501 -1.335613          1"
      ]
     },
     "execution_count": 26,
     "metadata": {},
     "output_type": "execute_result"
    }
   ],
   "source": [
    "dundasmean = dundas.groupby(['dt'], as_index=False).mean()\n",
    "queenmean = queen.groupby(['dt'], as_index = False).mean()\n",
    "richmondmean = richmond.groupby(['dt'], as_index = False).mean()\n",
    "adelaidemean = adelaide.groupby(['dt'], as_index = False).mean()\n",
    "wellingtonmean = wellington.groupby(['dt'], as_index = False).mean()\n",
    "frontmean = front.groupby(['dt'], as_index = False).mean()\n",
    "bathurstmean = bathurst.groupby(['dt'], as_index = False).mean()\n",
    "spadinamean = spadina.groupby(['dt'], as_index = False).mean()\n",
    "universitymean = university.groupby(['dt'], as_index = False).mean()\n",
    "yongemean = yonge.groupby(['dt'], as_index = False).mean()\n",
    "jarvismean = jarvis.groupby(['dt'], as_index = False).mean()\n",
    "\n",
    "jarvismean"
   ]
  },
  {
   "cell_type": "markdown",
   "metadata": {},
   "source": [
    "The following are plots containing mean pilot and mean baseline values calculated across the different dates. "
   ]
  },
  {
   "cell_type": "code",
   "execution_count": 10,
   "metadata": {},
   "outputs": [
    {
     "data": {
      "image/png": "[encoded data removed]",
      "text/plain": [
       "<matplotlib.figure.Figure at 0xd6cd080>"
      ]
     },
     "metadata": {},
     "output_type": "display_data"
    },
    {
     "data": {
      "image/png": "[encoded data removed]",
      "text/plain": [
       "<matplotlib.figure.Figure at 0xcca4470>"
      ]
     },
     "metadata": {},
     "output_type": "display_data"
    }
   ],
   "source": [
    "fig, axes = plt.subplots(nrows=5, ncols=2)\n",
    "\n",
    "ax1 = dundasmean[dundasmean.columns[0:3]].plot(kind='bar', x = 'dt', title = 'Dundas', rot = 45, ax=axes[0,0], figsize = (17,17))\n",
    "ax2 = queenmean[queenmean.columns[0:3]].plot(kind='bar', x = 'dt', title = 'Queen', rot = 45, ax=axes[0,1],  figsize = (17,17))\n",
    "ax3 = richmondmean[richmondmean.columns[0:3]].plot(kind='bar', x = 'dt', title = 'Richmond', rot = 45, ax=axes[1,0],  figsize = (17,17))\n",
    "ax4 = adelaidemean[adelaidemean.columns[0:3]].plot(kind='bar', x = 'dt', title = 'Adelaide', rot = 45, ax=axes[1,1],  figsize = (17,17))\n",
    "ax5 = wellingtonmean[wellingtonmean.columns[0:3]].plot(kind='bar', x = 'dt', title = 'Wellington', rot = 45, ax=axes[2,0],  figsize = (17,17))\n",
    "ax6 = frontmean[frontmean.columns[0:3]].plot(kind='bar', x = 'dt', title = 'Front', rot = 45, ax=axes[2,1],  figsize = (17,17))\n",
    "ax7 = bathurstmean[bathurstmean.columns[0:3]].plot(kind='bar', x = 'dt', title = 'Bathurst', rot = 45, ax=axes[3,0],  figsize = (17,17))\n",
    "ax8 = spadinamean[spadinamean.columns[0:3]].plot(kind='bar', x = 'dt', title = 'Spadina', rot = 45, ax=axes[3,1],  figsize = (17,17))\n",
    "ax9 = universitymean[universitymean.columns[0:3]].plot(kind='bar', x = 'dt', title = 'University', rot = 45, ax=axes[4,0],  figsize = (17,17))\n",
    "ax10 = yongemean[yongemean.columns[0:3]].plot(kind='bar', x = 'dt', title = 'Yonge', rot = 45, ax=axes[4,1],  figsize = (17,17))\n",
    "\n",
    "for i in [ax1, ax2, ax3, ax4, ax5, ax6, ax7, ax8, ax9, ax10]:\n",
    "    i.set_xlabel('Date', fontsize=8)\n",
    "    i.set_ylabel('Mean Travel Times', fontsize = 10)\n",
    "\n",
    "plt.tight_layout()\n",
    "\n",
    "ax11 = jarvismean[jarvismean.columns[0:3]].plot(kind='bar', x = 'dt', title = 'Jarvis', rot = 45, figsize = (8,2))\n",
    "ax11.set_xlabel('Date', fontsize=9)\n",
    "ax11.set_ylabel('Mean Travel Times', fontsize = 9)\n",
    "plt.show()"
   ]
  },
  {
   "cell_type": "markdown",
   "metadata": {},
   "source": [
    "Summary statistics for each street are assigned to various variables. An example for dundas is followed"
   ]
  },
  {
   "cell_type": "code",
   "execution_count": 45,
   "metadata": {
    "collapsed": true
   },
   "outputs": [],
   "source": [
    "dundasstats = dundas.loc[:, ['dt', 'pilot', 'baseline']].describe()\n",
    "queenstats = queen.loc[:, ['dt', 'pilot', 'baseline']].describe()\n",
    "richmondstats = richmond.loc[:, ['dt', 'pilot', 'baseline']].describe()\n",
    "adelaidestats = adelaide.loc[:, ['dt', 'pilot', 'baseline']].describe()\n",
    "wellingtonstats = wellington.loc[:, ['dt', 'pilot', 'baseline']].describe()\n",
    "frontstats = front.loc[:, ['dt', 'pilot', 'baseline']].describe()\n",
    "bathurststats = bathurst.loc[:, ['dt', 'pilot', 'baseline']].describe()\n",
    "spadinastats = spadina.loc[:, ['dt', 'pilot', 'baseline']].describe()\n",
    "universitystats = university.loc[:, ['dt', 'pilot', 'baseline']].describe()\n",
    "yongestats = yonge.loc[:, ['dt', 'pilot', 'baseline']].describe()\n",
    "jarvisstats = jarvis.loc[:, ['dt', 'pilot', 'baseline']].describe()"
   ]
  },
  {
   "cell_type": "code",
   "execution_count": 46,
   "metadata": {},
   "outputs": [
    {
     "data": {
      "text/html": [
       "<div>\n",
       "<style>\n",
       "    .dataframe thead tr:only-child th {\n",
       "        text-align: right;\n",
       "    }\n",
       "\n",
       "    .dataframe thead th {\n",
       "        text-align: left;\n",
       "    }\n",
       "\n",
       "    .dataframe tbody tr th {\n",
       "        vertical-align: top;\n",
       "    }\n",
       "</style>\n",
       "<table border=\"1\" class=\"dataframe\">\n",
       "  <thead>\n",
       "    <tr style=\"text-align: right;\">\n",
       "      <th></th>\n",
       "      <th>pilot</th>\n",
       "      <th>baseline</th>\n",
       "    </tr>\n",
       "  </thead>\n",
       "  <tbody>\n",
       "    <tr>\n",
       "      <th>count</th>\n",
       "      <td>16.000000</td>\n",
       "      <td>16.000000</td>\n",
       "    </tr>\n",
       "    <tr>\n",
       "      <th>mean</th>\n",
       "      <td>10.036180</td>\n",
       "      <td>10.378625</td>\n",
       "    </tr>\n",
       "    <tr>\n",
       "      <th>std</th>\n",
       "      <td>3.157040</td>\n",
       "      <td>2.390294</td>\n",
       "    </tr>\n",
       "    <tr>\n",
       "      <th>min</th>\n",
       "      <td>6.401094</td>\n",
       "      <td>8.102424</td>\n",
       "    </tr>\n",
       "    <tr>\n",
       "      <th>25%</th>\n",
       "      <td>8.430755</td>\n",
       "      <td>8.773356</td>\n",
       "    </tr>\n",
       "    <tr>\n",
       "      <th>50%</th>\n",
       "      <td>9.037049</td>\n",
       "      <td>8.773356</td>\n",
       "    </tr>\n",
       "    <tr>\n",
       "      <th>75%</th>\n",
       "      <td>10.629276</td>\n",
       "      <td>11.421083</td>\n",
       "    </tr>\n",
       "    <tr>\n",
       "      <th>max</th>\n",
       "      <td>17.281297</td>\n",
       "      <td>14.475418</td>\n",
       "    </tr>\n",
       "  </tbody>\n",
       "</table>\n",
       "</div>"
      ],
      "text/plain": [
       "           pilot   baseline\n",
       "count  16.000000  16.000000\n",
       "mean   10.036180  10.378625\n",
       "std     3.157040   2.390294\n",
       "min     6.401094   8.102424\n",
       "25%     8.430755   8.773356\n",
       "50%     9.037049   8.773356\n",
       "75%    10.629276  11.421083\n",
       "max    17.281297  14.475418"
      ]
     },
     "execution_count": 46,
     "metadata": {},
     "output_type": "execute_result"
    }
   ],
   "source": [
    "richmondstats"
   ]
  },
  {
   "cell_type": "markdown",
   "metadata": {},
   "source": [
    "For each street, we wish to test whether the pilot average during snow periods is different than the baseline average. We summarize the results in a dataframe. "
   ]
  },
  {
   "cell_type": "code",
   "execution_count": 13,
   "metadata": {},
   "outputs": [
    {
     "data": {
      "text/html": [
       "<div>\n",
       "<style>\n",
       "    .dataframe thead tr:only-child th {\n",
       "        text-align: right;\n",
       "    }\n",
       "\n",
       "    .dataframe thead th {\n",
       "        text-align: left;\n",
       "    }\n",
       "\n",
       "    .dataframe tbody tr th {\n",
       "        vertical-align: top;\n",
       "    }\n",
       "</style>\n",
       "<table border=\"1\" class=\"dataframe\">\n",
       "  <thead>\n",
       "    <tr style=\"text-align: right;\">\n",
       "      <th></th>\n",
       "      <th>street</th>\n",
       "      <th>pilot mean</th>\n",
       "      <th>baseline mean</th>\n",
       "      <th>t-value</th>\n",
       "      <th>pvalue</th>\n",
       "    </tr>\n",
       "  </thead>\n",
       "  <tbody>\n",
       "    <tr>\n",
       "      <th>0</th>\n",
       "      <td>dundas</td>\n",
       "      <td>12.436344988589598</td>\n",
       "      <td>12.08158217950039</td>\n",
       "      <td>0.558252497508</td>\n",
       "      <td>0.578682468949</td>\n",
       "    </tr>\n",
       "    <tr>\n",
       "      <th>1</th>\n",
       "      <td>queen</td>\n",
       "      <td>14.015083833664445</td>\n",
       "      <td>12.548041641837518</td>\n",
       "      <td>1.96597066222</td>\n",
       "      <td>0.0537839888016</td>\n",
       "    </tr>\n",
       "    <tr>\n",
       "      <th>2</th>\n",
       "      <td>richmond</td>\n",
       "      <td>10.03618005485169</td>\n",
       "      <td>10.3786245361001</td>\n",
       "      <td>-0.345916689444</td>\n",
       "      <td>0.731819507964</td>\n",
       "    </tr>\n",
       "    <tr>\n",
       "      <th>3</th>\n",
       "      <td>adelaide</td>\n",
       "      <td>10.726838066190018</td>\n",
       "      <td>9.704883915691047</td>\n",
       "      <td>0.619078371164</td>\n",
       "      <td>0.541251716458</td>\n",
       "    </tr>\n",
       "    <tr>\n",
       "      <th>4</th>\n",
       "      <td>wellington</td>\n",
       "      <td>8.653755621979402</td>\n",
       "      <td>8.831553668285256</td>\n",
       "      <td>-0.360107314933</td>\n",
       "      <td>0.721289820641</td>\n",
       "    </tr>\n",
       "    <tr>\n",
       "      <th>5</th>\n",
       "      <td>front</td>\n",
       "      <td>10.919616287445864</td>\n",
       "      <td>11.516214038511274</td>\n",
       "      <td>-0.853537132304</td>\n",
       "      <td>0.396756300252</td>\n",
       "    </tr>\n",
       "    <tr>\n",
       "      <th>6</th>\n",
       "      <td>bathurst</td>\n",
       "      <td>5.350669989231738</td>\n",
       "      <td>5.4896661710635115</td>\n",
       "      <td>-0.793906108419</td>\n",
       "      <td>0.430278263637</td>\n",
       "    </tr>\n",
       "    <tr>\n",
       "      <th>7</th>\n",
       "      <td>spadina</td>\n",
       "      <td>6.74610434840052</td>\n",
       "      <td>6.99523711888659</td>\n",
       "      <td>-0.508993707342</td>\n",
       "      <td>0.612563338346</td>\n",
       "    </tr>\n",
       "    <tr>\n",
       "      <th>8</th>\n",
       "      <td>university</td>\n",
       "      <td>5.306996631142266</td>\n",
       "      <td>5.628365780643773</td>\n",
       "      <td>-0.626240266029</td>\n",
       "      <td>0.533456268808</td>\n",
       "    </tr>\n",
       "    <tr>\n",
       "      <th>9</th>\n",
       "      <td>yonge</td>\n",
       "      <td>6.533952074502348</td>\n",
       "      <td>7.227267883343687</td>\n",
       "      <td>-1.75928136034</td>\n",
       "      <td>0.0834633434972</td>\n",
       "    </tr>\n",
       "    <tr>\n",
       "      <th>10</th>\n",
       "      <td>jarvis</td>\n",
       "      <td>5.561240847561875</td>\n",
       "      <td>5.088672979143591</td>\n",
       "      <td>0.559705040184</td>\n",
       "      <td>0.577697216794</td>\n",
       "    </tr>\n",
       "  </tbody>\n",
       "</table>\n",
       "</div>"
      ],
      "text/plain": [
       "        street          pilot mean       baseline mean          t-value  \\\n",
       "0       dundas  12.436344988589598   12.08158217950039   0.558252497508   \n",
       "1        queen  14.015083833664445  12.548041641837518    1.96597066222   \n",
       "2     richmond   10.03618005485169    10.3786245361001  -0.345916689444   \n",
       "3     adelaide  10.726838066190018   9.704883915691047   0.619078371164   \n",
       "4   wellington   8.653755621979402   8.831553668285256  -0.360107314933   \n",
       "5        front  10.919616287445864  11.516214038511274  -0.853537132304   \n",
       "6     bathurst   5.350669989231738  5.4896661710635115  -0.793906108419   \n",
       "7      spadina    6.74610434840052    6.99523711888659  -0.508993707342   \n",
       "8   university   5.306996631142266   5.628365780643773  -0.626240266029   \n",
       "9        yonge   6.533952074502348   7.227267883343687   -1.75928136034   \n",
       "10      jarvis   5.561240847561875   5.088672979143591   0.559705040184   \n",
       "\n",
       "             pvalue  \n",
       "0    0.578682468949  \n",
       "1   0.0537839888016  \n",
       "2    0.731819507964  \n",
       "3    0.541251716458  \n",
       "4    0.721289820641  \n",
       "5    0.396756300252  \n",
       "6    0.430278263637  \n",
       "7    0.612563338346  \n",
       "8    0.533456268808  \n",
       "9   0.0834633434972  \n",
       "10   0.577697216794  "
      ]
     },
     "execution_count": 13,
     "metadata": {},
     "output_type": "execute_result"
    }
   ],
   "source": [
    "streettests = pd.DataFrame(np.array([['dundas', dundas['pilot'].mean(), dundas['baseline'].mean(), \n",
    "          stats.ttest_ind(dundas['pilot'],dundas['baseline']).statistic,\n",
    "          stats.ttest_ind(dundas['pilot'],dundas['baseline']).pvalue],\n",
    "            ['queen', queen['pilot'].mean(), queen['baseline'].mean(), \n",
    "          stats.ttest_ind(queen['pilot'],queen['baseline']).statistic,\n",
    "          stats.ttest_ind(queen['pilot'],queen['baseline']).pvalue],\n",
    "            ['richmond', richmond['pilot'].mean(), richmond['baseline'].mean(), \n",
    "          stats.ttest_ind(richmond['pilot'],richmond['baseline']).statistic,\n",
    "          stats.ttest_ind(richmond['pilot'],richmond['baseline']).pvalue],         \n",
    "            ['adelaide', adelaide['pilot'].mean(), adelaide['baseline'].mean(), \n",
    "          stats.ttest_ind(adelaide['pilot'],adelaide['baseline']).statistic,\n",
    "          stats.ttest_ind(adelaide['pilot'],adelaide['baseline']).pvalue],\n",
    "            ['wellington', wellington['pilot'].mean(), wellington['baseline'].mean(), \n",
    "          stats.ttest_ind(wellington['pilot'],wellington['baseline']).statistic,\n",
    "          stats.ttest_ind(wellington['pilot'],wellington['baseline']).pvalue],\n",
    "            ['front', front['pilot'].mean(), front['baseline'].mean(), \n",
    "          stats.ttest_ind(front['pilot'],front['baseline']).statistic,\n",
    "          stats.ttest_ind(front['pilot'],front['baseline']).pvalue], \n",
    "            ['bathurst', bathurst['pilot'].mean(), bathurst['baseline'].mean(), \n",
    "          stats.ttest_ind(bathurst['pilot'],bathurst['baseline']).statistic,\n",
    "          stats.ttest_ind(bathurst['pilot'],bathurst['baseline']).pvalue], \n",
    "            ['spadina', spadina['pilot'].mean(), spadina['baseline'].mean(), \n",
    "          stats.ttest_ind(spadina['pilot'],spadina['baseline']).statistic,\n",
    "          stats.ttest_ind(spadina['pilot'],spadina['baseline']).pvalue],\n",
    "            ['university', university['pilot'].mean(), university['baseline'].mean(), \n",
    "          stats.ttest_ind(university['pilot'],university['baseline']).statistic,\n",
    "          stats.ttest_ind(university['pilot'],university['baseline']).pvalue],\n",
    "            ['yonge', yonge['pilot'].mean(), yonge['baseline'].mean(), \n",
    "          stats.ttest_ind(yonge['pilot'],yonge['baseline']).statistic,\n",
    "          stats.ttest_ind(yonge['pilot'],yonge['baseline']).pvalue],\n",
    "            ['jarvis', jarvis['pilot'].mean(), jarvis['baseline'].mean(), \n",
    "          stats.ttest_ind(jarvis['pilot'],jarvis['baseline']).statistic,\n",
    "          stats.ttest_ind(jarvis['pilot'],jarvis['baseline']).pvalue]\n",
    "            ]),columns = ['street', 'pilot mean', 'baseline mean', 't-value', 'pvalue'])\n",
    "\n",
    "streettests"
   ]
  },
  {
   "cell_type": "markdown",
   "metadata": {},
   "source": [
    "From the above, Dundas, Queen, Adelaide, and Jarvis had slower travel times. However, no street had a statistically significant result, i.e. the impact of snow was not statistically significant at the alpha level 0.05.\n",
    "\n",
    "Notice that **Dundas, Queen, and Adelaide** belong to the same street segment, the *East-West Corridor*. This fact will be used later on in the analysis. \n",
    "\n",
    "\n",
    "While we reject the null for most streets, Queen and Yonge may be of interest for further investigation. Queen's pvalue borders on statistical significance, while Yonge is highly suggestive at p =0.0834 which would be significant at the 0.1 alpha level. \n",
    "\n",
    "\n"
   ]
  },
  {
   "cell_type": "markdown",
   "metadata": {},
   "source": [
    "## Sectioning by Time Period"
   ]
  },
  {
   "cell_type": "markdown",
   "metadata": {},
   "source": [
    "We now section off the data into time periods, i.e. AM Peak, Midday, PM Peak, Evening. Snow may have differently affected each of these periods' travel times. \n",
    "\n",
    "First, we divide the data into separate period dataframes."
   ]
  },
  {
   "cell_type": "code",
   "execution_count": 192,
   "metadata": {
    "collapsed": true
   },
   "outputs": [],
   "source": [
    "ampeak = pd.DataFrame(snow.loc[i,] for i in range(len(snow)) if snow.loc[i,].period == 'AM Peak' and snow.loc[i,].snow_flag==1)\n",
    "midday = pd.DataFrame(snow.loc[i,] for i in range(len(snow)) if snow.loc[i,].period == 'Midday' and snow.loc[i,].snow_flag==1)\n",
    "pmpeak = pd.DataFrame(snow.loc[i,] for i in range(len(snow)) if snow.loc[i,].period == 'PM Peak' and snow.loc[i,].snow_flag==1)\n",
    "evening = pd.DataFrame(snow.loc[i,] for i in range(len(snow)) if snow.loc[i,].period == 'Evening' and snow.loc[i,].snow_flag==1)"
   ]
  },
  {
   "cell_type": "markdown",
   "metadata": {},
   "source": [
    "The periods are grouped by date, and then graphed."
   ]
  },
  {
   "cell_type": "code",
   "execution_count": 187,
   "metadata": {
    "collapsed": true
   },
   "outputs": [],
   "source": [
    "ampeakmean = ampeak.groupby(['dt'], as_index=False).mean()\n",
    "middaymean = midday.groupby(['dt'], as_index=False).mean()\n",
    "eveningmean = evening.groupby(['dt'], as_index=False).mean()\n",
    "pmpeakmean = pmpeak.groupby(['dt'], as_index=False).mean()"
   ]
  },
  {
   "cell_type": "code",
   "execution_count": 188,
   "metadata": {},
   "outputs": [
    {
     "data": {
      "image/png": "[encoded data removed]",
      "text/plain": [
       "<matplotlib.figure.Figure at 0xce30630>"
      ]
     },
     "metadata": {},
     "output_type": "display_data"
    }
   ],
   "source": [
    "fig, axes = plt.subplots(nrows=2, ncols=2)\n",
    "\n",
    "ax1 = ampeakmean[ampeakmean.columns[0:3]].plot(kind='bar', x = 'dt', title = 'AM Peak', rot = 45, ax=axes[0,0], figsize = (13,7))\n",
    "ax2 = middaymean[middaymean.columns[0:3]].plot(kind='bar', x = 'dt', title = 'Midday', rot = 45, ax=axes[0,1],  figsize = (13,7))\n",
    "ax3 = pmpeakmean[pmpeakmean.columns[0:3]].plot(kind='bar', x = 'dt', title = 'PM Peak', rot = 45, ax=axes[1,0],  figsize = (13,7))\n",
    "ax4 = eveningmean[eveningmean.columns[0:3]].plot(kind='bar', x = 'dt', title = 'Evening', rot = 45, ax=axes[1,1],  figsize = (13,7))\n",
    "\n",
    "for i in [ax1, ax2, ax3, ax4]:\n",
    "    i.set_xlabel('Date', fontsize=8)\n",
    "    i.set_ylabel('Mean Travel Times', fontsize = 10)\n",
    "\n",
    "\n",
    "plt.tight_layout()\n",
    "plt.show()\n"
   ]
  },
  {
   "cell_type": "markdown",
   "metadata": {},
   "source": [
    " From the above data, we have time periods and respective dates with slower travel times. \n",
    "\n",
    "* AM Peak:\n",
    "    * 2017-12-12\n",
    "    * 2017-12-13\n",
    "* Midday:\n",
    "    * 2017-12-15\n",
    "    * 2017-12-22\n",
    "* PM Peak:\n",
    "    * 2017-12-11\n",
    "    * 2017-12-15\n",
    "* Evening: \n",
    "    * 2017-12-21"
   ]
  },
  {
   "cell_type": "markdown",
   "metadata": {},
   "source": [
    "We conduct hypothesis tests for each of the periods. These hypotheses are the same as the ones conducted earlier. A Dataframe is created to summarize our results. "
   ]
  },
  {
   "cell_type": "code",
   "execution_count": 183,
   "metadata": {},
   "outputs": [
    {
     "data": {
      "text/html": [
       "<div>\n",
       "<style>\n",
       "    .dataframe thead tr:only-child th {\n",
       "        text-align: right;\n",
       "    }\n",
       "\n",
       "    .dataframe thead th {\n",
       "        text-align: left;\n",
       "    }\n",
       "\n",
       "    .dataframe tbody tr th {\n",
       "        vertical-align: top;\n",
       "    }\n",
       "</style>\n",
       "<table border=\"1\" class=\"dataframe\">\n",
       "  <thead>\n",
       "    <tr style=\"text-align: right;\">\n",
       "      <th></th>\n",
       "      <th>street</th>\n",
       "      <th>pilot mean</th>\n",
       "      <th>baseline mean</th>\n",
       "      <th>t-value</th>\n",
       "      <th>pvalue</th>\n",
       "    </tr>\n",
       "  </thead>\n",
       "  <tbody>\n",
       "    <tr>\n",
       "      <th>0</th>\n",
       "      <td>AM Peak</td>\n",
       "      <td>7.176954026264695</td>\n",
       "      <td>7.459958068445224</td>\n",
       "      <td>-0.798876922459</td>\n",
       "      <td>0.425208009542</td>\n",
       "    </tr>\n",
       "    <tr>\n",
       "      <th>1</th>\n",
       "      <td>Midday</td>\n",
       "      <td>8.725693517437954</td>\n",
       "      <td>8.747869526764267</td>\n",
       "      <td>-0.0394433727484</td>\n",
       "      <td>0.968590057199</td>\n",
       "    </tr>\n",
       "    <tr>\n",
       "      <th>2</th>\n",
       "      <td>PM Peak</td>\n",
       "      <td>12.224722838785608</td>\n",
       "      <td>11.072013577128489</td>\n",
       "      <td>1.1786587429</td>\n",
       "      <td>0.241077418034</td>\n",
       "    </tr>\n",
       "    <tr>\n",
       "      <th>3</th>\n",
       "      <td>Evening</td>\n",
       "      <td>7.511018907684157</td>\n",
       "      <td>7.772250962531116</td>\n",
       "      <td>-0.470588469704</td>\n",
       "      <td>0.638849815694</td>\n",
       "    </tr>\n",
       "  </tbody>\n",
       "</table>\n",
       "</div>"
      ],
      "text/plain": [
       "    street          pilot mean       baseline mean           t-value  \\\n",
       "0  AM Peak   7.176954026264695   7.459958068445224   -0.798876922459   \n",
       "1   Midday   8.725693517437954   8.747869526764267  -0.0394433727484   \n",
       "2  PM Peak  12.224722838785608  11.072013577128489      1.1786587429   \n",
       "3  Evening   7.511018907684157   7.772250962531116   -0.470588469704   \n",
       "\n",
       "           pvalue  \n",
       "0  0.425208009542  \n",
       "1  0.968590057199  \n",
       "2  0.241077418034  \n",
       "3  0.638849815694  "
      ]
     },
     "execution_count": 183,
     "metadata": {},
     "output_type": "execute_result"
    }
   ],
   "source": [
    "periodtests = pd.DataFrame(np.array([['AM Peak', ampeak['pilot'].mean(), ampeak['baseline'].mean(), \n",
    "          stats.ttest_ind(ampeak['pilot'],ampeak['baseline']).statistic,\n",
    "          stats.ttest_ind(ampeak['pilot'],ampeak['baseline']).pvalue],\n",
    "            ['Midday', midday['pilot'].mean(), midday['baseline'].mean(), \n",
    "          stats.ttest_ind(midday['pilot'],midday['baseline']).statistic,\n",
    "          stats.ttest_ind(midday['pilot'],midday['baseline']).pvalue],\n",
    "            ['PM Peak', pmpeak['pilot'].mean(), pmpeak['baseline'].mean(), \n",
    "          stats.ttest_ind(pmpeak['pilot'],pmpeak['baseline']).statistic,\n",
    "          stats.ttest_ind(pmpeak['pilot'],pmpeak['baseline']).pvalue],         \n",
    "            ['Evening', evening['pilot'].mean(), evening['baseline'].mean(), \n",
    "          stats.ttest_ind(evening['pilot'],evening['baseline']).statistic,\n",
    "          stats.ttest_ind(evening['pilot'],evening['baseline']).pvalue],]),\n",
    "          columns = ['street', 'pilot mean', 'baseline mean', 't-value', 'pvalue'])\n",
    "\n",
    "periodtests"
   ]
  },
  {
   "cell_type": "markdown",
   "metadata": {},
   "source": [
    "From the above, we see that PM Peak had a slower travel time. None of the above pvalues show statistical significance at the 0.05 alpha level."
   ]
  },
  {
   "cell_type": "markdown",
   "metadata": {},
   "source": [
    "## Sectioning by Corridor and Time Period"
   ]
  },
  {
   "cell_type": "markdown",
   "metadata": {},
   "source": [
    "Recall the streets that had slower travel times (seen below). Notice how, Dundas, Queen, and Adelaide belong to the same corridor: the east west corridor."
   ]
  },
  {
   "cell_type": "code",
   "execution_count": 114,
   "metadata": {},
   "outputs": [
    {
     "data": {
      "text/html": [
       "<div>\n",
       "<style>\n",
       "    .dataframe thead tr:only-child th {\n",
       "        text-align: right;\n",
       "    }\n",
       "\n",
       "    .dataframe thead th {\n",
       "        text-align: left;\n",
       "    }\n",
       "\n",
       "    .dataframe tbody tr th {\n",
       "        vertical-align: top;\n",
       "    }\n",
       "</style>\n",
       "<table border=\"1\" class=\"dataframe\">\n",
       "  <thead>\n",
       "    <tr style=\"text-align: right;\">\n",
       "      <th></th>\n",
       "      <th>street</th>\n",
       "      <th>pilot mean</th>\n",
       "      <th>baseline mean</th>\n",
       "      <th>t-value</th>\n",
       "      <th>pvalue</th>\n",
       "    </tr>\n",
       "  </thead>\n",
       "  <tbody>\n",
       "    <tr>\n",
       "      <th>0</th>\n",
       "      <td>dundas</td>\n",
       "      <td>12.436344988589598</td>\n",
       "      <td>12.08158217950039</td>\n",
       "      <td>0.558252497508</td>\n",
       "      <td>0.578682468949</td>\n",
       "    </tr>\n",
       "    <tr>\n",
       "      <th>1</th>\n",
       "      <td>queen</td>\n",
       "      <td>14.015083833664445</td>\n",
       "      <td>12.548041641837518</td>\n",
       "      <td>1.96597066222</td>\n",
       "      <td>0.0537839888016</td>\n",
       "    </tr>\n",
       "    <tr>\n",
       "      <th>3</th>\n",
       "      <td>adelaide</td>\n",
       "      <td>10.726838066190018</td>\n",
       "      <td>9.704883915691047</td>\n",
       "      <td>0.619078371164</td>\n",
       "      <td>0.541251716458</td>\n",
       "    </tr>\n",
       "    <tr>\n",
       "      <th>10</th>\n",
       "      <td>jarvis</td>\n",
       "      <td>5.561240847561875</td>\n",
       "      <td>5.088672979143591</td>\n",
       "      <td>0.559705040184</td>\n",
       "      <td>0.577697216794</td>\n",
       "    </tr>\n",
       "  </tbody>\n",
       "</table>\n",
       "</div>"
      ],
      "text/plain": [
       "      street          pilot mean       baseline mean         t-value  \\\n",
       "0     dundas  12.436344988589598   12.08158217950039  0.558252497508   \n",
       "1      queen  14.015083833664445  12.548041641837518   1.96597066222   \n",
       "3   adelaide  10.726838066190018   9.704883915691047  0.619078371164   \n",
       "10    jarvis   5.561240847561875   5.088672979143591  0.559705040184   \n",
       "\n",
       "             pvalue  \n",
       "0    0.578682468949  \n",
       "1   0.0537839888016  \n",
       "3    0.541251716458  \n",
       "10   0.577697216794  "
      ]
     },
     "execution_count": 114,
     "metadata": {},
     "output_type": "execute_result"
    }
   ],
   "source": [
    "pd.DataFrame(streettests.loc[i,] for i in range(len(streettests)) if float(streettests.loc[i,][1]) > float(streettests.loc[i,][2]))"
   ]
  },
  {
   "cell_type": "markdown",
   "metadata": {},
   "source": [
    "The two corridors are spearated into two dataframe variables. "
   ]
  },
  {
   "cell_type": "code",
   "execution_count": 139,
   "metadata": {
    "collapsed": true
   },
   "outputs": [],
   "source": [
    "ewcorridor = pd.DataFrame(snow.loc[i,] for i in range(len(snow)) \n",
    "            if snow.loc[i].street in ('Dundas', 'Queen', 'Richmond', 'Adelaide', 'Wellington', 'Front') \n",
    "            and snow.loc[i,].snow_flag==1)\n",
    "nscorridor = pd.DataFrame(snow.loc[i,] for i in range(len(snow))\n",
    "            if snow.loc[i].street in ('Bathurst', 'Spadina', 'University', 'Yonge', 'Jarvis')\n",
    "            and snow.loc[i,].snow_flag==1)"
   ]
  },
  {
   "cell_type": "markdown",
   "metadata": {},
   "source": [
    "The average pilot and baseline values are summarized for each corridor. "
   ]
  },
  {
   "cell_type": "code",
   "execution_count": 189,
   "metadata": {},
   "outputs": [
    {
     "data": {
      "text/plain": [
       "(pilot        11.589848\n",
       " baseline     11.265119\n",
       " change        0.324728\n",
       " snow_flag     1.000000\n",
       " dtype: float64, pilot        5.899793\n",
       " baseline     6.085842\n",
       " change      -0.186049\n",
       " snow_flag    1.000000\n",
       " dtype: float64)"
      ]
     },
     "execution_count": 189,
     "metadata": {},
     "output_type": "execute_result"
    }
   ],
   "source": [
    "ewcorridor.mean(), nscorridor.mean()"
   ]
  },
  {
   "cell_type": "markdown",
   "metadata": {},
   "source": [
    "As seen above, the East-West Corridor has a slower travel time, i.e. pilot = 11.59, baseline = 11.27"
   ]
  },
  {
   "cell_type": "code",
   "execution_count": 148,
   "metadata": {},
   "outputs": [
    {
     "data": {
      "text/plain": [
       "Ttest_indResult(statistic=0.85817036517094525, pvalue=0.39153239391202033)"
      ]
     },
     "execution_count": 148,
     "metadata": {},
     "output_type": "execute_result"
    }
   ],
   "source": [
    "stats.ttest_ind(ewcorridor['pilot'],ewcorridor['baseline'])"
   ]
  },
  {
   "cell_type": "markdown",
   "metadata": {},
   "source": [
    "The corridors are grouped by periods and assigned to the variables ewperiods and nsperiods.  The averages for each corridors are seen below. "
   ]
  },
  {
   "cell_type": "code",
   "execution_count": 145,
   "metadata": {},
   "outputs": [
    {
     "data": {
      "text/html": [
       "<div>\n",
       "<style>\n",
       "    .dataframe thead tr:only-child th {\n",
       "        text-align: right;\n",
       "    }\n",
       "\n",
       "    .dataframe thead th {\n",
       "        text-align: left;\n",
       "    }\n",
       "\n",
       "    .dataframe tbody tr th {\n",
       "        vertical-align: top;\n",
       "    }\n",
       "</style>\n",
       "<table border=\"1\" class=\"dataframe\">\n",
       "  <thead>\n",
       "    <tr style=\"text-align: right;\">\n",
       "      <th></th>\n",
       "      <th>period</th>\n",
       "      <th>pilot</th>\n",
       "      <th>baseline</th>\n",
       "      <th>change</th>\n",
       "      <th>snow_flag</th>\n",
       "    </tr>\n",
       "  </thead>\n",
       "  <tbody>\n",
       "    <tr>\n",
       "      <th>0</th>\n",
       "      <td>AM Peak</td>\n",
       "      <td>9.631861</td>\n",
       "      <td>9.775955</td>\n",
       "      <td>-0.144094</td>\n",
       "      <td>1</td>\n",
       "    </tr>\n",
       "    <tr>\n",
       "      <th>1</th>\n",
       "      <td>Evening</td>\n",
       "      <td>10.047313</td>\n",
       "      <td>10.287946</td>\n",
       "      <td>-0.240633</td>\n",
       "      <td>1</td>\n",
       "    </tr>\n",
       "    <tr>\n",
       "      <th>2</th>\n",
       "      <td>Midday</td>\n",
       "      <td>12.054856</td>\n",
       "      <td>11.719328</td>\n",
       "      <td>0.335528</td>\n",
       "      <td>1</td>\n",
       "    </tr>\n",
       "    <tr>\n",
       "      <th>3</th>\n",
       "      <td>PM Peak</td>\n",
       "      <td>16.557019</td>\n",
       "      <td>14.704045</td>\n",
       "      <td>1.852973</td>\n",
       "      <td>1</td>\n",
       "    </tr>\n",
       "  </tbody>\n",
       "</table>\n",
       "</div>"
      ],
      "text/plain": [
       "    period      pilot   baseline    change  snow_flag\n",
       "0  AM Peak   9.631861   9.775955 -0.144094          1\n",
       "1  Evening  10.047313  10.287946 -0.240633          1\n",
       "2   Midday  12.054856  11.719328  0.335528          1\n",
       "3  PM Peak  16.557019  14.704045  1.852973          1"
      ]
     },
     "execution_count": 145,
     "metadata": {},
     "output_type": "execute_result"
    }
   ],
   "source": [
    "ewperiods = ewcorridor.groupby(['period'], as_index=False).mean()\n",
    "ewperiods"
   ]
  },
  {
   "cell_type": "code",
   "execution_count": 162,
   "metadata": {},
   "outputs": [
    {
     "data": {
      "text/html": [
       "<div>\n",
       "<style>\n",
       "    .dataframe thead tr:only-child th {\n",
       "        text-align: right;\n",
       "    }\n",
       "\n",
       "    .dataframe thead th {\n",
       "        text-align: left;\n",
       "    }\n",
       "\n",
       "    .dataframe tbody tr th {\n",
       "        vertical-align: top;\n",
       "    }\n",
       "</style>\n",
       "<table border=\"1\" class=\"dataframe\">\n",
       "  <thead>\n",
       "    <tr style=\"text-align: right;\">\n",
       "      <th></th>\n",
       "      <th>period</th>\n",
       "      <th>pilot</th>\n",
       "      <th>baseline</th>\n",
       "      <th>change</th>\n",
       "      <th>snow_flag</th>\n",
       "    </tr>\n",
       "  </thead>\n",
       "  <tbody>\n",
       "    <tr>\n",
       "      <th>0</th>\n",
       "      <td>AM Peak</td>\n",
       "      <td>5.008453</td>\n",
       "      <td>5.414160</td>\n",
       "      <td>-0.405708</td>\n",
       "      <td>1</td>\n",
       "    </tr>\n",
       "    <tr>\n",
       "      <th>1</th>\n",
       "      <td>Evening</td>\n",
       "      <td>5.228354</td>\n",
       "      <td>5.508126</td>\n",
       "      <td>-0.279771</td>\n",
       "      <td>1</td>\n",
       "    </tr>\n",
       "    <tr>\n",
       "      <th>2</th>\n",
       "      <td>Midday</td>\n",
       "      <td>5.812676</td>\n",
       "      <td>6.147843</td>\n",
       "      <td>-0.335167</td>\n",
       "      <td>1</td>\n",
       "    </tr>\n",
       "    <tr>\n",
       "      <th>3</th>\n",
       "      <td>PM Peak</td>\n",
       "      <td>8.470066</td>\n",
       "      <td>7.924253</td>\n",
       "      <td>0.545814</td>\n",
       "      <td>1</td>\n",
       "    </tr>\n",
       "  </tbody>\n",
       "</table>\n",
       "</div>"
      ],
      "text/plain": [
       "    period     pilot  baseline    change  snow_flag\n",
       "0  AM Peak  5.008453  5.414160 -0.405708          1\n",
       "1  Evening  5.228354  5.508126 -0.279771          1\n",
       "2   Midday  5.812676  6.147843 -0.335167          1\n",
       "3  PM Peak  8.470066  7.924253  0.545814          1"
      ]
     },
     "execution_count": 162,
     "metadata": {},
     "output_type": "execute_result"
    }
   ],
   "source": [
    "nsperiods = nscorridor.groupby(['period'], as_index=False).mean()\n",
    "nsperiods"
   ]
  },
  {
   "cell_type": "markdown",
   "metadata": {},
   "source": [
    "Graphs of the results can be seen below. Notice how both corridors were affected at PM Peaks. "
   ]
  },
  {
   "cell_type": "code",
   "execution_count": 178,
   "metadata": {},
   "outputs": [
    {
     "data": {
      "image/png": "[encoded data removed]",
      "text/plain": [
       "<matplotlib.figure.Figure at 0xdc9a320>"
      ]
     },
     "metadata": {},
     "output_type": "display_data"
    },
    {
     "data": {
      "image/png": "[encoded data removed]",
      "text/plain": [
       "<matplotlib.figure.Figure at 0xcbb40b8>"
      ]
     },
     "metadata": {},
     "output_type": "display_data"
    }
   ],
   "source": [
    "ax1 = ewperiods[ewperiods.columns[0:3]].plot(kind='bar', x = 'period', title = 'EW Corridors', rot = 45,  figsize = (7,3))\n",
    "ax2 = nsperiods[nsperiods.columns[0:3]].plot(kind='bar', x = 'period', title = 'NS Corridors', rot = 45,  figsize = (7,3))\n",
    "\n",
    "plt.tight_layout()\n",
    "plt.show()"
   ]
  },
  {
   "cell_type": "markdown",
   "metadata": {},
   "source": [
    "The periods with slower travel times are as follows: \n",
    "\n",
    "* East-West Corridor:\n",
    "    * Midday\n",
    "    * PM Peak\n",
    "    \n",
    "* North-South Corridor:\n",
    "    * PM Peak "
   ]
  },
  {
   "cell_type": "markdown",
   "metadata": {},
   "source": [
    "We conduct tests on these periods. Dataframes are created containing data for only specific periods. "
   ]
  },
  {
   "cell_type": "code",
   "execution_count": 163,
   "metadata": {},
   "outputs": [
    {
     "data": {
      "text/plain": [
       "Ttest_indResult(statistic=0.63368773760230268, pvalue=0.52841042044690423)"
      ]
     },
     "execution_count": 163,
     "metadata": {},
     "output_type": "execute_result"
    }
   ],
   "source": [
    "ewmid = pd.DataFrame(snow.loc[i,] for i in range(len(snow)) \n",
    "        if snow.loc[i].street in ('Dundas', 'Queen', 'Richmond', 'Adelaide', 'Wellington', 'Front') \n",
    "        and snow.loc[i].period == 'Midday'\n",
    "        and snow.loc[i,].snow_flag==1)\n",
    "stats.ttest_ind(ewmid['pilot'],ewmid['baseline'])"
   ]
  },
  {
   "cell_type": "code",
   "execution_count": 164,
   "metadata": {},
   "outputs": [
    {
     "data": {
      "text/plain": [
       "Ttest_indResult(statistic=1.9106745064614823, pvalue=0.061788961309187422)"
      ]
     },
     "execution_count": 164,
     "metadata": {},
     "output_type": "execute_result"
    }
   ],
   "source": [
    "ewpm = pd.DataFrame(snow.loc[i,] for i in range(len(snow)) \n",
    "        if snow.loc[i].street in ('Dundas', 'Queen', 'Richmond', 'Adelaide', 'Wellington', 'Front') \n",
    "        and snow.loc[i].period == 'PM Peak'\n",
    "        and snow.loc[i,].snow_flag==1)\n",
    "stats.ttest_ind(ewpm['pilot'],ewpm['baseline'])"
   ]
  },
  {
   "cell_type": "code",
   "execution_count": 176,
   "metadata": {},
   "outputs": [
    {
     "data": {
      "text/plain": [
       "Ttest_indResult(statistic=0.57519372488337961, pvalue=0.56738508025458811)"
      ]
     },
     "execution_count": 176,
     "metadata": {},
     "output_type": "execute_result"
    }
   ],
   "source": [
    "nspm = pd.DataFrame(snow.loc[i,] for i in range(len(snow))\n",
    "            if snow.loc[i].street in ('Bathurst', 'Spadina', 'University', 'Yonge', 'Jarvis')\n",
    "            and snow.loc[i].period == 'PM Peak'\n",
    "            and snow.loc[i,].snow_flag==1)\n",
    "stats.ttest_ind(nspm['pilot'], nspm['baseline'])"
   ]
  },
  {
   "cell_type": "markdown",
   "metadata": {},
   "source": [
    "From the above, it can be seen that the p values are insignificant. However, the East-West corridor during PM Peak time contains borderline statistically significant results. Therefore it can be said that snow may have had potentially the most effect on the **East-West corridor during the PM Peak**. "
   ]
  },
  {
   "cell_type": "markdown",
   "metadata": {
    "collapsed": true
   },
   "source": [
    "# Summary\n",
    "\n",
    "* Dundas, Queen, Adelaide, and Jarvis had slower travel times. \n",
    "    * No street had a statistically significant result, i.e. the impact of snow was not statistically significant at the alpha level 0.05.\n",
    "    * Queen was affected the greatest (1.47 change)- this borderlined on statistical significance\n",
    "    * Dundas was affected the least (0.355 change)\n",
    "\n",
    "\n",
    "* For time periods, PM Peak had a slower mean travel time\n",
    "    * No statistical significance, but had 1.153 change in travel time\n",
    "\n",
    "\n",
    "* For time periods, the periods with slower travel times were:\n",
    "    * AM Peak:\n",
    "        * 2017-12-12\n",
    "        * 2017-12-13\n",
    "    * Midday:\n",
    "        * 2017-12-15\n",
    "        * 2017-12-22\n",
    "    * PM Peak:\n",
    "        * 2017-12-11\n",
    "        * 2017-12-15\n",
    "    * Evening: \n",
    "        * 2017-12-21\n",
    "        \n",
    "        \n",
    "        \n",
    "* Since Dundas, Queen, and Adelaide are all part of the same corridor, we investigate the east-west and north-south corridors separately:\n",
    "    * The East-West Corridor has a slower overall travel time, i.e. 0.325 change in travel time\n",
    "        * Midday and PM Peak affected this. PM Peak had the biggest impact 1.852973\n",
    "            * East-West corridor during PM Peak time contained borderline statistically significant results\n",
    "    * The North-South Corridor seemed unaffected overall\n",
    "        * PM Peak was the only period with a slower travel time"
   ]
  },
  {
   "cell_type": "code",
   "execution_count": null,
   "metadata": {
    "collapsed": true
   },
   "outputs": [],
   "source": []
  },
  {
   "cell_type": "markdown",
   "metadata": {
    "collapsed": true
   },
   "source": [
    "### Investigating Individual Streets (optional)"
   ]
  },
  {
   "cell_type": "code",
   "execution_count": 83,
   "metadata": {},
   "outputs": [
    {
     "data": {
      "text/html": [
       "<div>\n",
       "<style>\n",
       "    .dataframe thead tr:only-child th {\n",
       "        text-align: right;\n",
       "    }\n",
       "\n",
       "    .dataframe thead th {\n",
       "        text-align: left;\n",
       "    }\n",
       "\n",
       "    .dataframe tbody tr th {\n",
       "        vertical-align: top;\n",
       "    }\n",
       "</style>\n",
       "<table border=\"1\" class=\"dataframe\">\n",
       "  <thead>\n",
       "    <tr style=\"text-align: right;\">\n",
       "      <th></th>\n",
       "      <th>period</th>\n",
       "      <th>pilot</th>\n",
       "      <th>baseline</th>\n",
       "      <th>change</th>\n",
       "      <th>snow_flag</th>\n",
       "    </tr>\n",
       "  </thead>\n",
       "  <tbody>\n",
       "    <tr>\n",
       "      <th>0</th>\n",
       "      <td>AM Peak</td>\n",
       "      <td>10.108126</td>\n",
       "      <td>10.015923</td>\n",
       "      <td>0.092203</td>\n",
       "      <td>1</td>\n",
       "    </tr>\n",
       "    <tr>\n",
       "      <th>1</th>\n",
       "      <td>Evening</td>\n",
       "      <td>11.200326</td>\n",
       "      <td>12.002505</td>\n",
       "      <td>-0.802179</td>\n",
       "      <td>1</td>\n",
       "    </tr>\n",
       "    <tr>\n",
       "      <th>2</th>\n",
       "      <td>Midday</td>\n",
       "      <td>13.377366</td>\n",
       "      <td>13.505929</td>\n",
       "      <td>-0.128562</td>\n",
       "      <td>1</td>\n",
       "    </tr>\n",
       "    <tr>\n",
       "      <th>3</th>\n",
       "      <td>PM Peak</td>\n",
       "      <td>17.074107</td>\n",
       "      <td>14.392849</td>\n",
       "      <td>2.681257</td>\n",
       "      <td>1</td>\n",
       "    </tr>\n",
       "  </tbody>\n",
       "</table>\n",
       "</div>"
      ],
      "text/plain": [
       "    period      pilot   baseline    change  snow_flag\n",
       "0  AM Peak  10.108126  10.015923  0.092203          1\n",
       "1  Evening  11.200326  12.002505 -0.802179          1\n",
       "2   Midday  13.377366  13.505929 -0.128562          1\n",
       "3  PM Peak  17.074107  14.392849  2.681257          1"
      ]
     },
     "execution_count": 83,
     "metadata": {},
     "output_type": "execute_result"
    }
   ],
   "source": [
    "dundaspmean = dundas.groupby(['period'], as_index=False).mean()\n",
    "dundaspmean"
   ]
  },
  {
   "cell_type": "code",
   "execution_count": 133,
   "metadata": {},
   "outputs": [
    {
     "data": {
      "text/plain": [
       "(Ttest_indResult(statistic=0.22134975093443543, pvalue=0.82686172292134286),\n",
       " Ttest_indResult(statistic=2.4430699773973186, pvalue=0.034666418431623172))"
      ]
     },
     "execution_count": 133,
     "metadata": {},
     "output_type": "execute_result"
    }
   ],
   "source": [
    "dundasam = pd.DataFrame(snow.loc[i,] for i in range(len(snow)) if snow.loc[i].street == 'Dundas'and snow.loc[i,].period == 'AM Peak' and snow.loc[i,].snow_flag==1)\n",
    "dundaspm = pd.DataFrame(snow.loc[i,] for i in range(len(snow)) if snow.loc[i].street == 'Dundas'and snow.loc[i,].period == 'PM Peak' and snow.loc[i,].snow_flag==1)\n",
    "stats.ttest_ind(dundasam['pilot'],dundasam['baseline']), stats.ttest_ind(dundaspm['pilot'],dundaspm['baseline'])"
   ]
  },
  {
   "cell_type": "code",
   "execution_count": 125,
   "metadata": {},
   "outputs": [
    {
     "data": {
      "text/html": [
       "<div>\n",
       "<style>\n",
       "    .dataframe thead tr:only-child th {\n",
       "        text-align: right;\n",
       "    }\n",
       "\n",
       "    .dataframe thead th {\n",
       "        text-align: left;\n",
       "    }\n",
       "\n",
       "    .dataframe tbody tr th {\n",
       "        vertical-align: top;\n",
       "    }\n",
       "</style>\n",
       "<table border=\"1\" class=\"dataframe\">\n",
       "  <thead>\n",
       "    <tr style=\"text-align: right;\">\n",
       "      <th></th>\n",
       "      <th>period</th>\n",
       "      <th>pilot</th>\n",
       "      <th>baseline</th>\n",
       "      <th>change</th>\n",
       "      <th>snow_flag</th>\n",
       "    </tr>\n",
       "  </thead>\n",
       "  <tbody>\n",
       "    <tr>\n",
       "      <th>0</th>\n",
       "      <td>AM Peak</td>\n",
       "      <td>11.480984</td>\n",
       "      <td>10.865098</td>\n",
       "      <td>0.615885</td>\n",
       "      <td>1</td>\n",
       "    </tr>\n",
       "    <tr>\n",
       "      <th>1</th>\n",
       "      <td>Evening</td>\n",
       "      <td>12.260128</td>\n",
       "      <td>11.665055</td>\n",
       "      <td>0.595074</td>\n",
       "      <td>1</td>\n",
       "    </tr>\n",
       "    <tr>\n",
       "      <th>2</th>\n",
       "      <td>Midday</td>\n",
       "      <td>14.847643</td>\n",
       "      <td>13.251367</td>\n",
       "      <td>1.596275</td>\n",
       "      <td>1</td>\n",
       "    </tr>\n",
       "    <tr>\n",
       "      <th>3</th>\n",
       "      <td>PM Peak</td>\n",
       "      <td>19.728161</td>\n",
       "      <td>15.859147</td>\n",
       "      <td>3.869014</td>\n",
       "      <td>1</td>\n",
       "    </tr>\n",
       "  </tbody>\n",
       "</table>\n",
       "</div>"
      ],
      "text/plain": [
       "    period      pilot   baseline    change  snow_flag\n",
       "0  AM Peak  11.480984  10.865098  0.615885          1\n",
       "1  Evening  12.260128  11.665055  0.595074          1\n",
       "2   Midday  14.847643  13.251367  1.596275          1\n",
       "3  PM Peak  19.728161  15.859147  3.869014          1"
      ]
     },
     "execution_count": 125,
     "metadata": {},
     "output_type": "execute_result"
    }
   ],
   "source": [
    "queenpmean = queen.groupby(['period'], as_index=False).mean()\n",
    "queenpmean"
   ]
  },
  {
   "cell_type": "code",
   "execution_count": 122,
   "metadata": {},
   "outputs": [
    {
     "data": {
      "text/plain": [
       "(Ttest_indResult(statistic=1.3841478798375544, pvalue=0.18019481652619276),\n",
       " Ttest_indResult(statistic=0.60923617493434712, pvalue=0.55595546863679934),\n",
       " Ttest_indResult(statistic=2.4829434612551511, pvalue=0.03237919139582527),\n",
       " Ttest_indResult(statistic=2.707595655026986, pvalue=0.017001812213102416))"
      ]
     },
     "execution_count": 122,
     "metadata": {},
     "output_type": "execute_result"
    }
   ],
   "source": [
    "queenam = pd.DataFrame(snow.loc[i,] for i in range(len(snow)) if snow.loc[i].street == 'Queen'and snow.loc[i,].period == 'AM Peak' and snow.loc[i,].snow_flag==1)\n",
    "queenevening = pd.DataFrame(snow.loc[i,] for i in range(len(snow)) if snow.loc[i].street == 'Queen'and snow.loc[i,].period == 'Evening' and snow.loc[i,].snow_flag==1)\n",
    "queenmid = pd.DataFrame(snow.loc[i,] for i in range(len(snow)) if snow.loc[i].street == 'Queen'and snow.loc[i,].period == 'Midday' and snow.loc[i,].snow_flag==1)\n",
    "queenpm = pd.DataFrame(snow.loc[i,] for i in range(len(snow)) if snow.loc[i].street == 'Queen'and snow.loc[i,].period == 'PM Peak' and snow.loc[i,].snow_flag==1)\n",
    "\n",
    "stats.ttest_ind(queenam['pilot'],queenam['baseline']), stats.ttest_ind(queenevening['pilot'],queenevening['baseline']), stats.ttest_ind(queenpm['pilot'],queenpm['baseline']), stats.ttest_ind(queenmid['pilot'],queenmid['baseline'])"
   ]
  },
  {
   "cell_type": "code",
   "execution_count": 100,
   "metadata": {},
   "outputs": [
    {
     "data": {
      "text/html": [
       "<div>\n",
       "<style>\n",
       "    .dataframe thead tr:only-child th {\n",
       "        text-align: right;\n",
       "    }\n",
       "\n",
       "    .dataframe thead th {\n",
       "        text-align: left;\n",
       "    }\n",
       "\n",
       "    .dataframe tbody tr th {\n",
       "        vertical-align: top;\n",
       "    }\n",
       "</style>\n",
       "<table border=\"1\" class=\"dataframe\">\n",
       "  <thead>\n",
       "    <tr style=\"text-align: right;\">\n",
       "      <th></th>\n",
       "      <th>period</th>\n",
       "      <th>pilot</th>\n",
       "      <th>baseline</th>\n",
       "      <th>change</th>\n",
       "      <th>snow_flag</th>\n",
       "    </tr>\n",
       "  </thead>\n",
       "  <tbody>\n",
       "    <tr>\n",
       "      <th>0</th>\n",
       "      <td>AM Peak</td>\n",
       "      <td>7.929086</td>\n",
       "      <td>7.864729</td>\n",
       "      <td>0.064358</td>\n",
       "      <td>1</td>\n",
       "    </tr>\n",
       "    <tr>\n",
       "      <th>1</th>\n",
       "      <td>Evening</td>\n",
       "      <td>8.434528</td>\n",
       "      <td>8.071130</td>\n",
       "      <td>0.363398</td>\n",
       "      <td>1</td>\n",
       "    </tr>\n",
       "    <tr>\n",
       "      <th>2</th>\n",
       "      <td>Midday</td>\n",
       "      <td>10.178612</td>\n",
       "      <td>9.410475</td>\n",
       "      <td>0.768138</td>\n",
       "      <td>1</td>\n",
       "    </tr>\n",
       "    <tr>\n",
       "      <th>3</th>\n",
       "      <td>PM Peak</td>\n",
       "      <td>18.230293</td>\n",
       "      <td>14.699972</td>\n",
       "      <td>3.530321</td>\n",
       "      <td>1</td>\n",
       "    </tr>\n",
       "  </tbody>\n",
       "</table>\n",
       "</div>"
      ],
      "text/plain": [
       "    period      pilot   baseline    change  snow_flag\n",
       "0  AM Peak   7.929086   7.864729  0.064358          1\n",
       "1  Evening   8.434528   8.071130  0.363398          1\n",
       "2   Midday  10.178612   9.410475  0.768138          1\n",
       "3  PM Peak  18.230293  14.699972  3.530321          1"
      ]
     },
     "execution_count": 100,
     "metadata": {},
     "output_type": "execute_result"
    }
   ],
   "source": [
    "adelaidepmean = adelaide.groupby(['period'], as_index=False).mean()\n",
    "adelaidepmean"
   ]
  },
  {
   "cell_type": "code",
   "execution_count": 117,
   "metadata": {},
   "outputs": [
    {
     "data": {
      "text/plain": [
       "(Ttest_indResult(statistic=0.19113445611351362, pvalue=0.8531819712425277),\n",
       " Ttest_indResult(statistic=0.31515329254091756, pvalue=0.76840168484721372),\n",
       " Ttest_indResult(statistic=0.71384730944972619, pvalue=0.51476255310658536),\n",
       " Ttest_indResult(statistic=0.69682531741073039, pvalue=0.52428596448011655))"
      ]
     },
     "execution_count": 117,
     "metadata": {},
     "output_type": "execute_result"
    }
   ],
   "source": [
    "adelaideam = pd.DataFrame(snow.loc[i,] for i in range(len(snow)) if snow.loc[i].street == 'Adelaide'and snow.loc[i,].period == 'AM Peak' and snow.loc[i,].snow_flag==1)\n",
    "adelaideevening = pd.DataFrame(snow.loc[i,] for i in range(len(snow)) if snow.loc[i].street == 'Adelaide'and snow.loc[i,].period == 'Evening' and snow.loc[i,].snow_flag==1)\n",
    "adelaidemid = pd.DataFrame(snow.loc[i,] for i in range(len(snow)) if snow.loc[i].street == 'Adelaide'and snow.loc[i,].period == 'Midday' and snow.loc[i,].snow_flag==1)\n",
    "adelaidepm = pd.DataFrame(snow.loc[i,] for i in range(len(snow)) if snow.loc[i].street == 'Adelaide'and snow.loc[i,].period == 'PM Peak' and snow.loc[i,].snow_flag==1)\n",
    "\n",
    "\n",
    "stats.ttest_ind(adelaideam['pilot'],adelaideam['baseline']),stats.ttest_ind(adelaideevening['pilot'],adelaideevening['baseline']),stats.ttest_ind(adelaidemid['pilot'],adelaidemid['baseline']),stats.ttest_ind(adelaidepm['pilot'],adelaidepm['baseline'])"
   ]
  }
 ],
 "metadata": {
  "kernelspec": {
   "display_name": "Python 3",
   "language": "python",
   "name": "python3"
  },
  "language_info": {
   "codemirror_mode": {
    "name": "ipython",
    "version": 3
   },
   "file_extension": ".py",
   "mimetype": "text/x-python",
   "name": "python",
   "nbconvert_exporter": "python",
   "pygments_lexer": "ipython3",
   "version": "3.6.3"
  }
 },
 "nbformat": 4,
 "nbformat_minor": 2
}

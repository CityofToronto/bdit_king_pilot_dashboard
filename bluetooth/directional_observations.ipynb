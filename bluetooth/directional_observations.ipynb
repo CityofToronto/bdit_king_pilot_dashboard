{
 "cells": [
  {
   "cell_type": "code",
   "execution_count": null,
   "metadata": {
    "collapsed": true
   },
   "outputs": [],
   "source": [
    "%matplotlob inline\n",
    "import psycopg2 as pg\n",
    "import configparser\n",
    "import datetime\n",
    "import matplotlib.pyplot.scatter as plt\n",
    "from pg import DB\n",
    "import pandas as pd\n",
    "import pandas.io.sql as psql"
   ]
  },
  {
   "cell_type": "code",
   "execution_count": null,
   "metadata": {
    "collapsed": true
   },
   "outputs": [],
   "source": [
    "# setting up pgsql connection\n",
    "db = DB(\"dbname=bigdata host=10.160.12.47 port=5432 user=ryu4 password=79512267\")"
   ]
  },
  {
   "cell_type": "code",
   "execution_count": 21,
   "metadata": {
    "collapsed": true
   },
   "outputs": [],
   "source": [
    "# get_directional_data(start_point, end_point) returns the number of observations for the line segment that lies within\n",
    "#  start_point and end_point. If it is bi-direction, it will also give the difference in observation for EB and WB\n",
    "def get_directional_data(start_point, end_point):\n",
    "    sql = '''SELECT date_trunc('hour', datetime_bin) as yyyymm, \\\n",
    "            COUNT(nullif(startpoint_name,\\''''+ start_point + '''\\')) AS \"Number EB Obs\", \\\n",
    "            COUNT(nullif(endpoint_name, \\''''+ start_point + '''\\')) AS \"NUMBER WB Obs\", \\\n",
    "            COUNT(nullif(startpoint_name, \\''''+ start_point + '''\\')) - COUNT(nullif(startpoint_name, \\''''+ end_point + '''\\')) AS \"EB - WB\" \\\n",
    "            FROM ryu4.aggr_5min_bt \\\n",
    "            WHERE startpoint_name IN (\\''''+ start_point + '''\\', \\''''+ end_point + '''\\') \\\n",
    "            AND endpoint_name IN (\\''''+ start_point + '''\\', \\''''+ end_point + '''\\') \\\n",
    "            GROUP BY yyyymm ORDER BY yyyymm;'''\n",
    "    results = db.query(sql)\n",
    "    return results"
   ]
  },
  {
   "cell_type": "code",
   "execution_count": null,
   "metadata": {
    "collapsed": true
   },
   "outputs": [],
   "source": [
    "def remove_duplicates(start_end_points):\n",
    "    filtered_points = []\n",
    "    for point in start_end_points:\n",
    "        inverted = {'startpoint_name': point['endpoint_name'], 'endpoint_name': point['startpoint_name']}\n",
    "        if inverted not in filtered_points:\n",
    "            filtered_points.append(point)\n",
    "    \n",
    "    return filtered_points"
   ]
  },
  {
   "cell_type": "code",
   "execution_count": null,
   "metadata": {
    "collapsed": true
   },
   "outputs": [],
   "source": [
    "# get_points() gets the startpoint_name and endpoint_name of all routes\n",
    "def get_points():\n",
    "    query = db.query('''SELECT DISTINCT \\\n",
    "                        startpoint_name, endpoint_name \\\n",
    "                        FROM bluetooth.observations \\\n",
    "                        WHERE strpos(startpoint_name, '_') = 3;''')\n",
    "    result = query.dictresult()\n",
    "    return result"
   ]
  },
  {
   "cell_type": "code",
   "execution_count": null,
   "metadata": {
    "collapsed": true
   },
   "outputs": [],
   "source": [
    "# since the get_points() query takes too long\n",
    "start_end_points = [{'startpoint_name': 'FR_BA', 'endpoint_name': 'FB_BA'}, {'startpoint_name': 'DU_RO', 'endpoint_name': 'QU_RO'}, {'startpoint_name': 'FR_UN', 'endpoint_name': 'KN_UN'}, {'startpoint_name': 'CO_BA', 'endpoint_name': 'CO_UN'}, {'startpoint_name': 'FR_PA', 'endpoint_name': 'FR_JA'}, {'startpoint_name': 'QU_PA', 'endpoint_name': 'QU_JA'}, {'startpoint_name': 'QU_BV', 'endpoint_name': 'KN_PA'}, {'startpoint_name': 'QU_DF', 'endpoint_name': 'QU_RO'}, {'startpoint_name': 'AD_UN', 'endpoint_name': 'AD_YO'}, {'startpoint_name': 'QU_BA', 'endpoint_name': 'QU_ST'}, {'startpoint_name': 'RM_YO', 'endpoint_name': 'RM_UN'}, {'startpoint_name': 'FB_YK', 'endpoint_name': 'FR_UN'}, {'startpoint_name': 'QU_JA', 'endpoint_name': 'QU_PA'}, {'startpoint_name': 'KN_PA', 'endpoint_name': 'QU_BV'}, {'startpoint_name': 'FB_BA', 'endpoint_name': 'FR_BA'}, {'startpoint_name': 'KN_ST', 'endpoint_name': 'QU_ST'}, {'startpoint_name': 'FR_UN', 'endpoint_name': 'FB_YK'}, {'startpoint_name': 'QU_ST', 'endpoint_name': 'QU_BA'}, {'startpoint_name': 'FR_BA', 'endpoint_name': 'FR_SP'}, {'startpoint_name': 'DU_YO', 'endpoint_name': 'QU_YO'}, {'startpoint_name': 'KN_UN', 'endpoint_name': 'FR_UN'}, {'startpoint_name': 'FR_JA', 'endpoint_name': 'FR_PA'}, {'startpoint_name': 'QU_JA', 'endpoint_name': 'QU_YO'}, {'startpoint_name': 'DU_UN', 'endpoint_name': 'QU_UN'}, {'startpoint_name': 'QU_UN', 'endpoint_name': 'QU_SP'}, {'startpoint_name': 'WE_UN', 'endpoint_name': 'WE_BJ'}, {'startpoint_name': 'KN_YO', 'endpoint_name': 'QU_YO'}, {'startpoint_name': 'KN_BA', 'endpoint_name': 'FR_BA'}, {'startpoint_name': 'AD_JA', 'endpoint_name': 'AD_PA'}, {'startpoint_name': 'QU_SP', 'endpoint_name': 'KN_SP'}, {'startpoint_name': 'FR_SP', 'endpoint_name': 'KN_SP'}, {'startpoint_name': 'DU_BA', 'endpoint_name': 'DU_SP'}, {'startpoint_name': 'KN_BA', 'endpoint_name': 'QU_BA'}, {'startpoint_name': 'QU_PA', 'endpoint_name': 'DU_PA'}, {'startpoint_name': 'RM_JA', 'endpoint_name': 'RM_YO'}, {'startpoint_name': 'FR_PA', 'endpoint_name': 'KN_PA'}, {'startpoint_name': 'QU_JA', 'endpoint_name': 'KN_JA'}, {'startpoint_name': 'EA_BV', 'endpoint_name': 'RM_PA'}, {'startpoint_name': 'QU_BA', 'endpoint_name': 'DU_BA'}, {'startpoint_name': 'KN_YO', 'endpoint_name': 'KN_UN'}, {'startpoint_name': 'KN_DF', 'endpoint_name': 'KN_ST'}, {'startpoint_name': 'KN_UN', 'endpoint_name': 'QU_UN'}, {'startpoint_name': 'FR_YO', 'endpoint_name': 'FR_JA'}, {'startpoint_name': 'KN_DF', 'endpoint_name': 'QU_RO'}, {'startpoint_name': 'DU_JA', 'endpoint_name': 'DU_PA'}, {'startpoint_name': 'QU_ST', 'endpoint_name': 'QU_DF'}, {'startpoint_name': 'KN_SP', 'endpoint_name': 'KN_BA'}, {'startpoint_name': 'KN_BA', 'endpoint_name': 'KN_SP'}, {'startpoint_name': 'QU_BV', 'endpoint_name': 'QU_PA'}, {'startpoint_name': 'WE_YO', 'endpoint_name': 'WE_UN'}, {'startpoint_name': 'FR_YO', 'endpoint_name': 'KN_YO'}, {'startpoint_name': 'KN_YO', 'endpoint_name': 'KN_JA'}, {'startpoint_name': 'CO_UN', 'endpoint_name': 'CO_BA'}, {'startpoint_name': 'DU_SP', 'endpoint_name': 'DU_BA'}, {'startpoint_name': 'QU_PA', 'endpoint_name': 'KN_PA'}, {'startpoint_name': 'FR_SP', 'endpoint_name': 'FR_BA'}, {'startpoint_name': 'QU_SP', 'endpoint_name': 'QU_BA'}, {'startpoint_name': 'QU_RO', 'endpoint_name': 'QU_DF'}, {'startpoint_name': 'DU_UN', 'endpoint_name': 'DU_YO'}, {'startpoint_name': 'DU_UN', 'endpoint_name': 'CO_UN'}, {'startpoint_name': 'FB_YK', 'endpoint_name': 'FB_SP'}, {'startpoint_name': 'KN_SP', 'endpoint_name': 'QU_SP'}, {'startpoint_name': 'CO_PA', 'endpoint_name': 'CO_UN'}, {'startpoint_name': 'QU_YO', 'endpoint_name': 'KN_YO'}, {'startpoint_name': 'DU_DF', 'endpoint_name': 'DU_BA'}, {'startpoint_name': 'QU_DF', 'endpoint_name': 'KN_DF'}, {'startpoint_name': 'FR_UN', 'endpoint_name': 'FR_SP'}, {'startpoint_name': 'DU_UN', 'endpoint_name': 'DU_SP'}, {'startpoint_name': 'QU_YO', 'endpoint_name': 'QU_JA'}, {'startpoint_name': 'DU_PA', 'endpoint_name': 'QU_PA'}, {'startpoint_name': 'QU_UN', 'endpoint_name': 'DU_UN'}, {'startpoint_name': 'DU_DF', 'endpoint_name': 'QU_DF'}, {'startpoint_name': 'RM_PA', 'endpoint_name': 'EA_BV'}, {'startpoint_name': 'DU_JA', 'endpoint_name': 'QU_JA'}, {'startpoint_name': 'FR_JA', 'endpoint_name': 'KN_JA'}, {'startpoint_name': 'FB_SP', 'endpoint_name': 'FR_SP'}, {'startpoint_name': 'FR_JA', 'endpoint_name': 'FR_YO'}, {'startpoint_name': 'DU_PA', 'endpoint_name': 'CO_PA'}, {'startpoint_name': 'QU_BA', 'endpoint_name': 'KN_BA'}, {'startpoint_name': 'KN_UN', 'endpoint_name': 'KN_YO'}, {'startpoint_name': 'KN_DF', 'endpoint_name': 'QU_DF'}, {'startpoint_name': 'KN_SP', 'endpoint_name': 'KN_UN'}, {'startpoint_name': 'QU_DF', 'endpoint_name': 'QU_ST'}, {'startpoint_name': 'FR_SP', 'endpoint_name': 'FB_SP'}, {'startpoint_name': 'KN_ST', 'endpoint_name': 'KN_BA'}, {'startpoint_name': 'QU_SP', 'endpoint_name': 'QU_UN'}, {'startpoint_name': 'FR_BA', 'endpoint_name': 'KN_BA'}, {'startpoint_name': 'DU_RO', 'endpoint_name': 'DU_DF'}, {'startpoint_name': 'EA_BV', 'endpoint_name': 'QU_BV'}, {'startpoint_name': 'QU_ST', 'endpoint_name': 'KN_ST'}, {'startpoint_name': 'QU_DF', 'endpoint_name': 'DU_DF'}, {'startpoint_name': 'DU_BA', 'endpoint_name': 'DU_DF'}, {'startpoint_name': 'DU_SP', 'endpoint_name': 'QU_SP'}, {'startpoint_name': 'FB_SP', 'endpoint_name': 'FB_BA'}, {'startpoint_name': 'KN_JA', 'endpoint_name': 'QU_JA'}, {'startpoint_name': 'QU_YO', 'endpoint_name': 'QU_UN'}, {'startpoint_name': 'KN_JA', 'endpoint_name': 'KN_YO'}, {'startpoint_name': 'KN_YO', 'endpoint_name': 'FR_YO'}, {'startpoint_name': 'DU_YO', 'endpoint_name': 'DU_JA'}, {'startpoint_name': 'QU_JA', 'endpoint_name': 'DU_JA'}, {'startpoint_name': 'QU_PA', 'endpoint_name': 'QU_BV'}, {'startpoint_name': 'KN_PA', 'endpoint_name': 'FR_PA'}, {'startpoint_name': 'DU_BA', 'endpoint_name': 'QU_BA'}, {'startpoint_name': 'QU_BA', 'endpoint_name': 'QU_SP'}, {'startpoint_name': 'RM_PA', 'endpoint_name': 'RM_JA'}, {'startpoint_name': 'QU_UN', 'endpoint_name': 'QU_YO'}, {'startpoint_name': 'KN_JA', 'endpoint_name': 'FR_JA'}, {'startpoint_name': 'KN_PA', 'endpoint_name': 'QU_PA'}, {'startpoint_name': 'KN_BA', 'endpoint_name': 'KN_ST'}, {'startpoint_name': 'QU_UN', 'endpoint_name': 'KN_UN'}, {'startpoint_name': 'AD_SP', 'endpoint_name': 'AD_UN'}, {'startpoint_name': 'FB_BA', 'endpoint_name': 'FB_SP'}, {'startpoint_name': 'DU_PA', 'endpoint_name': 'DU_JA'}, {'startpoint_name': 'QU_BV', 'endpoint_name': 'EA_BV'}, {'startpoint_name': 'CO_BA', 'endpoint_name': 'DU_BA'}, {'startpoint_name': 'CO_PA', 'endpoint_name': 'DU_PA'}, {'startpoint_name': 'QU_SP', 'endpoint_name': 'DU_SP'}, {'startpoint_name': 'QU_RO', 'endpoint_name': 'DU_RO'}, {'startpoint_name': 'RM_UN', 'endpoint_name': 'RM_SP'}, {'startpoint_name': 'AD_YO', 'endpoint_name': 'AD_JA'}, {'startpoint_name': 'KN_UN', 'endpoint_name': 'KN_SP'}, {'startpoint_name': 'CO_UN', 'endpoint_name': 'CO_PA'}, {'startpoint_name': 'KN_SP', 'endpoint_name': 'FR_SP'}, {'startpoint_name': 'CO_UN', 'endpoint_name': 'DU_UN'}, {'startpoint_name': 'DU_YO', 'endpoint_name': 'DU_UN'}, {'startpoint_name': 'KN_PA', 'endpoint_name': 'KN_JA'}, {'startpoint_name': 'FR_UN', 'endpoint_name': 'FR_YO'}, {'startpoint_name': 'QU_YO', 'endpoint_name': 'DU_YO'}, {'startpoint_name': 'RM_SP', 'endpoint_name': 'RM_BA'}, {'startpoint_name': 'FR_YO', 'endpoint_name': 'FR_UN'}, {'startpoint_name': 'KN_ST', 'endpoint_name': 'KN_DF'}, {'startpoint_name': 'FB_SP', 'endpoint_name': 'FB_YK'}, {'startpoint_name': 'KN_JA', 'endpoint_name': 'KN_PA'}, {'startpoint_name': 'DU_JA', 'endpoint_name': 'DU_YO'}, {'startpoint_name': 'QU_RO', 'endpoint_name': 'KN_DF'}, {'startpoint_name': 'DU_BA', 'endpoint_name': 'CO_BA'}, {'startpoint_name': 'DU_SP', 'endpoint_name': 'DU_UN'}, {'startpoint_name': 'DU_DF', 'endpoint_name': 'DU_RO'}, {'startpoint_name': 'FR_SP', 'endpoint_name': 'FR_UN'}]\n",
    "#start_end_points = get_points()\n",
    "# remove duplicates where its the same but WB\n",
    "start_end_points = remove_duplicates(start_end_points)"
   ]
  },
  {
   "cell_type": "code",
   "execution_count": null,
   "metadata": {
    "collapsed": true
   },
   "outputs": [],
   "source": [
    "#print(start_end_points)\n",
    "for point_set in start_end_points:\n",
    "#    print(point_set['startpoint_name'] + \" to \" + point_set['endpoint_name'])\n",
    "    result = get_directional_data(str(point_set['startpoint_name']), str(point_set['endpoint_name']))\n",
    "    east_bound = []\n",
    "    west_bound = []\n",
    "    time = []"
   ]
  }
 ],
 "metadata": {
  "kernelspec": {
   "display_name": "Python 3",
   "language": "python",
   "name": "python3"
  },
  "language_info": {
   "codemirror_mode": {
    "name": "ipython",
    "version": 3
   },
   "file_extension": ".py",
   "mimetype": "text/x-python",
   "name": "python",
   "nbconvert_exporter": "python",
   "pygments_lexer": "ipython3",
   "version": "3.6.2"
  }
 },
 "nbformat": 4,
 "nbformat_minor": 2
}

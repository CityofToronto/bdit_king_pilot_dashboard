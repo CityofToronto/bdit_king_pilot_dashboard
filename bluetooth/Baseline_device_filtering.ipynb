{
 "cells": [
  {
   "cell_type": "markdown",
   "metadata": {},
   "source": [
    "# Examining Effect of Class of Device Filtering on the Baseline\n",
    "\n",
    "The [bluetooth_baselines](bluetooth_baselines.ipynb) notebook identified route closures as contributing to spikes in travel times, because pedestrian devices were being detected by the sensors. This leads one to question whether the presence of pedestrian devices elsewhere might be affecting results elsewhere.\n",
    "\n",
    "We will first look at Nuit Blanche as an example:"
   ]
  },
  {
   "cell_type": "markdown",
   "metadata": {},
   "source": [
    "## Nuit Blanche\n",
    "The Nuit Blanche street closure of Queen affected travel times from Yonge to University overnight from Sep 30th to Oct 1st.\n"
   ]
  },
  {
   "cell_type": "code",
   "execution_count": 1,
   "metadata": {
    "collapsed": true
   },
   "outputs": [],
   "source": [
    "from psycopg2 import connect\n",
    "import psycopg2.sql as pg\n",
    "import configparser\n",
    "import datetime\n",
    "%matplotlib inline\n",
    "import numpy as np\n",
    "import pandas as pd\n",
    "import pandas.io.sql as pandasql\n",
    "import matplotlib.pyplot as plt\n",
    "import matplotlib as mpl\n",
    "import seaborn as sns\n",
    "sns.set(color_codes=True)\n",
    "from IPython.display import HTML\n",
    "def print_table(sql, con):\n",
    "    return HTML(pandasql.read_sql(sql, con).to_html(index=False))"
   ]
  },
  {
   "cell_type": "code",
   "execution_count": 2,
   "metadata": {
    "collapsed": true
   },
   "outputs": [],
   "source": [
    "CONFIG = configparser.ConfigParser()\n",
    "CONFIG.read('../../db.cfg')\n",
    "dbset = CONFIG['DBSETTINGS']\n",
    "con = connect(**dbset)"
   ]
  },
  {
   "cell_type": "code",
   "execution_count": 13,
   "metadata": {
    "collapsed": false
   },
   "outputs": [
    {
     "data": {
      "text/html": [
       "<table border=\"1\" class=\"dataframe\">\n",
       "  <thead>\n",
       "    <tr style=\"text-align: right;\">\n",
       "      <th>Nuit Blanche Observations (No WiFi)</th>\n",
       "      <th>September Queen Observations  (No WiFi)</th>\n",
       "    </tr>\n",
       "  </thead>\n",
       "  <tbody>\n",
       "    <tr>\n",
       "      <td>135</td>\n",
       "      <td>4627</td>\n",
       "    </tr>\n",
       "  </tbody>\n",
       "</table>"
      ],
      "text/plain": [
       "<IPython.core.display.HTML object>"
      ]
     },
     "execution_count": 13,
     "metadata": {},
     "output_type": "execute_result"
    }
   ],
   "source": [
    "sql = ''' WITH nuit_blanche AS(SELECT cod, device_class FROM bluetooth.observations_201709 \n",
    "WHERE measured_timestamp > '2017-09-30 19:00' AND analysis_id = 1453719\n",
    "UNION ALL\n",
    "SELECT cod, device_class FROM bluetooth.observations_201710 \n",
    "WHERE measured_timestamp < '2017-10-01 03:00' AND analysis_id = 1453719\n",
    ")\n",
    ", nb_total AS (SELECT COUNT(1) as total FROM nuit_blanche  WHERE device_class = 1)\n",
    ", queen_total AS(SELECT COUNT(1) AS total FROM bluetooth.observations_201709 \n",
    "WHERE analysis_id = 1453719 AND device_class = 1)\n",
    "SELECT nb.total AS \"Nuit Blanche Observations (No WiFi)\",\n",
    "q.total AS \"September Queen Observations  (No WiFi)\"\n",
    "FROM nb_total nb, queen_total q\n",
    "'''\n",
    "print_table(sql, con)"
   ]
  },
  {
   "cell_type": "code",
   "execution_count": 11,
   "metadata": {
    "collapsed": false
   },
   "outputs": [
    {
     "data": {
      "text/html": [
       "<table border=\"1\" class=\"dataframe\">\n",
       "  <thead>\n",
       "    <tr style=\"text-align: right;\">\n",
       "      <th>cod</th>\n",
       "      <th>Device Type</th>\n",
       "      <th>Proportion of Observations (Nuit Blanche)</th>\n",
       "      <th>Proportion of Observations (September)</th>\n",
       "    </tr>\n",
       "  </thead>\n",
       "  <tbody>\n",
       "    <tr>\n",
       "      <td>5898764</td>\n",
       "      <td>Smart phone</td>\n",
       "      <td>45.2%</td>\n",
       "      <td>17.3%</td>\n",
       "    </tr>\n",
       "    <tr>\n",
       "      <td>7995916</td>\n",
       "      <td>Smart phone</td>\n",
       "      <td>15.6%</td>\n",
       "      <td>11.6%</td>\n",
       "    </tr>\n",
       "    <tr>\n",
       "      <td>2098184</td>\n",
       "      <td>Hands-free Device</td>\n",
       "      <td>11.9%</td>\n",
       "      <td>17.7%</td>\n",
       "    </tr>\n",
       "    <tr>\n",
       "      <td>3408904</td>\n",
       "      <td>Hands-free Device</td>\n",
       "      <td>8.1%</td>\n",
       "      <td>16.4%</td>\n",
       "    </tr>\n",
       "    <tr>\n",
       "      <td>5898756</td>\n",
       "      <td>Cellular</td>\n",
       "      <td>4.4%</td>\n",
       "      <td>4.9%</td>\n",
       "    </tr>\n",
       "    <tr>\n",
       "      <td>5767684</td>\n",
       "      <td>Cellular</td>\n",
       "      <td>3.0%</td>\n",
       "      <td>2.6%</td>\n",
       "    </tr>\n",
       "    <tr>\n",
       "      <td>2098180</td>\n",
       "      <td>Wearable Headset Device</td>\n",
       "      <td>1.5%</td>\n",
       "      <td>.7%</td>\n",
       "    </tr>\n",
       "    <tr>\n",
       "      <td>7936</td>\n",
       "      <td>none</td>\n",
       "      <td>1.5%</td>\n",
       "      <td>1.9%</td>\n",
       "    </tr>\n",
       "    <tr>\n",
       "      <td>2360324</td>\n",
       "      <td>Wearable Headset Device</td>\n",
       "      <td>1.5%</td>\n",
       "      <td>5.0%</td>\n",
       "    </tr>\n",
       "    <tr>\n",
       "      <td>3146760</td>\n",
       "      <td>Hands-free Device</td>\n",
       "      <td>1.5%</td>\n",
       "      <td>3.4%</td>\n",
       "    </tr>\n",
       "    <tr>\n",
       "      <td>3408900</td>\n",
       "      <td>Wearable Headset Device</td>\n",
       "      <td>.7%</td>\n",
       "      <td>.3%</td>\n",
       "    </tr>\n",
       "    <tr>\n",
       "      <td>131340</td>\n",
       "      <td>Laptop</td>\n",
       "      <td>.7%</td>\n",
       "      <td>1.9%</td>\n",
       "    </tr>\n",
       "    <tr>\n",
       "      <td>2360328</td>\n",
       "      <td>Hands-free Device</td>\n",
       "      <td>.7%</td>\n",
       "      <td>2.0%</td>\n",
       "    </tr>\n",
       "    <tr>\n",
       "      <td>0</td>\n",
       "      <td>WiFi</td>\n",
       "      <td>.7%</td>\n",
       "      <td>5.2%</td>\n",
       "    </tr>\n",
       "    <tr>\n",
       "      <td>5243396</td>\n",
       "      <td>Cellular</td>\n",
       "      <td>.7%</td>\n",
       "      <td>.4%</td>\n",
       "    </tr>\n",
       "  </tbody>\n",
       "</table>"
      ],
      "text/plain": [
       "<IPython.core.display.HTML object>"
      ]
     },
     "execution_count": 11,
     "metadata": {},
     "output_type": "execute_result"
    }
   ],
   "source": [
    "sql = ''' WITH nuit_blanche AS(SELECT cod, device_class FROM bluetooth.observations_201709 \n",
    "WHERE measured_timestamp > '2017-09-30 19:00' AND analysis_id = 1453719\n",
    "UNION ALL\n",
    "SELECT cod, device_class FROM bluetooth.observations_201710 \n",
    "WHERE measured_timestamp < '2017-10-01 03:00' AND analysis_id = 1453719\n",
    ")\n",
    ", nb_total AS (SELECT COUNT(1) as total FROM nuit_blanche WHERE device_class = 1 )\n",
    ", nb_counts AS (SELECT cod, device_type, count(1) AS nb_cnt, to_char(100.0*COUNT(1)/total, '99.9%') AS \"Proportion of Observations (Nuit Blanche)\"\n",
    "FROM nuit_blanche\n",
    "INNER JOIN bluetooth.class_of_device USING (cod)\n",
    "CROSS JOIN nb_total\n",
    "WHERE device_class = 1\n",
    "GROUP BY cod, device_type, total\n",
    "ORDER BY \"Proportion of Observations (Nuit Blanche)\"\n",
    "\n",
    ")\n",
    ", queen_total AS(SELECT COUNT(1) AS total FROM bluetooth.observations_201709 \n",
    "WHERE analysis_id = 1453719 AND device_class = 1)\n",
    ", queen_counts  AS (SELECT cod, device_type, count(1) AS queen_cnt, to_char(100.0*COUNT(1)/total, '99.9%') AS \"Proportion of Observations (September)\"\n",
    "FROM bluetooth.observations_201709\n",
    "INNER JOIN bluetooth.class_of_device USING (cod)\n",
    "CROSS JOIN queen_total\n",
    "WHERE analysis_id = 1453719 AND device_class = 1\n",
    "GROUP BY cod, device_type, total\n",
    ")\n",
    "\n",
    "SELECT cod, device_type as \"Device Type\", \"Proportion of Observations (Nuit Blanche)\", \"Proportion of Observations (September)\"\n",
    "FROM queen_counts\n",
    "INNER JOIN nb_counts USING (cod, device_type)\n",
    "ORDER BY nb_cnt DESC\n",
    "LIMIT 15\n",
    "'''\n",
    "\n",
    "print_table(sql, con)"
   ]
  },
  {
   "cell_type": "markdown",
   "metadata": {},
   "source": [
    "It's odd that the proportion of smartphones shifts between the two sampling periods. \n",
    "\n",
    "According to [this Toronto Star Article](https://www.thestar.com/news/gta/2017/09/30/list-of-weekend-road-closures-due-to-nuit-blanche-invictus-games.html), Queen St. was closed from 18:30 until 08:00 the next day. So it is odd that `Hands-free Device` that have previously been reliably identified as exclusively car show up in this timeperiod. Given the sample of ~100 this was around 20 devices  over the 10 hour period.\n",
    "\n",
    "If one ignores the `device_class` filter, the vendor's identification of whether a device is WiFi or not. The table looks as below."
   ]
  },
  {
   "cell_type": "code",
   "execution_count": 12,
   "metadata": {
    "collapsed": false
   },
   "outputs": [
    {
     "data": {
      "text/html": [
       "<table border=\"1\" class=\"dataframe\">\n",
       "  <thead>\n",
       "    <tr style=\"text-align: right;\">\n",
       "      <th>cod</th>\n",
       "      <th>Device Type</th>\n",
       "      <th>Proportion of Observations (Nuit Blanche)</th>\n",
       "      <th>Proportion of Observations (September)</th>\n",
       "    </tr>\n",
       "  </thead>\n",
       "  <tbody>\n",
       "    <tr>\n",
       "      <td>0</td>\n",
       "      <td>WiFi</td>\n",
       "      <td>96.1%</td>\n",
       "      <td>88.5%</td>\n",
       "    </tr>\n",
       "    <tr>\n",
       "      <td>5898764</td>\n",
       "      <td>Smart phone</td>\n",
       "      <td>1.8%</td>\n",
       "      <td>2.1%</td>\n",
       "    </tr>\n",
       "    <tr>\n",
       "      <td>7995916</td>\n",
       "      <td>Smart phone</td>\n",
       "      <td>.6%</td>\n",
       "      <td>1.4%</td>\n",
       "    </tr>\n",
       "    <tr>\n",
       "      <td>2098184</td>\n",
       "      <td>Hands-free Device</td>\n",
       "      <td>.5%</td>\n",
       "      <td>2.1%</td>\n",
       "    </tr>\n",
       "    <tr>\n",
       "      <td>3408904</td>\n",
       "      <td>Hands-free Device</td>\n",
       "      <td>.3%</td>\n",
       "      <td>2.0%</td>\n",
       "    </tr>\n",
       "    <tr>\n",
       "      <td>5898756</td>\n",
       "      <td>Cellular</td>\n",
       "      <td>.2%</td>\n",
       "      <td>.6%</td>\n",
       "    </tr>\n",
       "    <tr>\n",
       "      <td>5767684</td>\n",
       "      <td>Cellular</td>\n",
       "      <td>.1%</td>\n",
       "      <td>.3%</td>\n",
       "    </tr>\n",
       "    <tr>\n",
       "      <td>7936</td>\n",
       "      <td>none</td>\n",
       "      <td>.1%</td>\n",
       "      <td>.2%</td>\n",
       "    </tr>\n",
       "    <tr>\n",
       "      <td>2360324</td>\n",
       "      <td>Wearable Headset Device</td>\n",
       "      <td>.1%</td>\n",
       "      <td>.6%</td>\n",
       "    </tr>\n",
       "    <tr>\n",
       "      <td>3146760</td>\n",
       "      <td>Hands-free Device</td>\n",
       "      <td>.1%</td>\n",
       "      <td>.4%</td>\n",
       "    </tr>\n",
       "    <tr>\n",
       "      <td>2098180</td>\n",
       "      <td>Wearable Headset Device</td>\n",
       "      <td>.1%</td>\n",
       "      <td>.1%</td>\n",
       "    </tr>\n",
       "    <tr>\n",
       "      <td>3408900</td>\n",
       "      <td>Wearable Headset Device</td>\n",
       "      <td>.0%</td>\n",
       "      <td>.0%</td>\n",
       "    </tr>\n",
       "    <tr>\n",
       "      <td>2360328</td>\n",
       "      <td>Hands-free Device</td>\n",
       "      <td>.0%</td>\n",
       "      <td>.2%</td>\n",
       "    </tr>\n",
       "    <tr>\n",
       "      <td>131340</td>\n",
       "      <td>Laptop</td>\n",
       "      <td>.0%</td>\n",
       "      <td>.2%</td>\n",
       "    </tr>\n",
       "    <tr>\n",
       "      <td>7471628</td>\n",
       "      <td>Smart phone</td>\n",
       "      <td>.0%</td>\n",
       "      <td>.0%</td>\n",
       "    </tr>\n",
       "  </tbody>\n",
       "</table>"
      ],
      "text/plain": [
       "<IPython.core.display.HTML object>"
      ]
     },
     "execution_count": 12,
     "metadata": {},
     "output_type": "execute_result"
    }
   ],
   "source": [
    "sql = ''' WITH nuit_blanche AS(SELECT cod, device_class FROM bluetooth.observations_201709 \n",
    "WHERE measured_timestamp > '2017-09-30 19:00' AND analysis_id = 1453719\n",
    "UNION ALL\n",
    "SELECT cod, device_class FROM bluetooth.observations_201710 \n",
    "WHERE measured_timestamp < '2017-10-01 03:00' AND analysis_id = 1453719\n",
    ")\n",
    ", nb_total AS (SELECT COUNT(1) as total FROM nuit_blanche  )\n",
    ", nb_counts AS (SELECT cod, device_type, count(1) AS nb_cnt, to_char(100.0*COUNT(1)/total, '99.9%') AS \"Proportion of Observations (Nuit Blanche)\"\n",
    "FROM nuit_blanche\n",
    "INNER JOIN bluetooth.class_of_device USING (cod)\n",
    "CROSS JOIN nb_total\n",
    "GROUP BY cod, device_type, total\n",
    "ORDER BY \"Proportion of Observations (Nuit Blanche)\"\n",
    "\n",
    ")\n",
    ", queen_total AS(SELECT COUNT(1) AS total FROM bluetooth.observations_201709 \n",
    "WHERE analysis_id = 1453719)\n",
    ", queen_counts  AS (SELECT cod, device_type, count(1) AS queen_cnt, to_char(100.0*COUNT(1)/total, '99.9%') AS \"Proportion of Observations (September)\"\n",
    "FROM bluetooth.observations_201709\n",
    "INNER JOIN bluetooth.class_of_device USING (cod)\n",
    "CROSS JOIN queen_total\n",
    "WHERE analysis_id = 1453719\n",
    "GROUP BY cod, device_type, total\n",
    ")\n",
    "\n",
    "SELECT cod, device_type as \"Device Type\", \"Proportion of Observations (Nuit Blanche)\", \"Proportion of Observations (September)\"\n",
    "FROM queen_counts\n",
    "INNER JOIN nb_counts USING (cod, device_type)\n",
    "ORDER BY nb_cnt DESC\n",
    "LIMIT 15\n",
    "'''\n",
    "\n",
    "print_table(sql, con)"
   ]
  },
  {
   "cell_type": "code",
   "execution_count": 8,
   "metadata": {
    "collapsed": false
   },
   "outputs": [],
   "source": [
    "sql = '''WITH nuit_blanche AS(SELECT cod, measured_timestamp, measured_time FROM bluetooth.observations_201709 \n",
    "WHERE measured_timestamp > '2017-09-30 5:30' AND analysis_id = 1453719 AND outlier_level = 0\n",
    "UNION ALL\n",
    "SELECT cod, measured_timestamp, measured_time FROM bluetooth.observations_201710 \n",
    "WHERE measured_timestamp < '2017-10-01 21:00' AND analysis_id = 1453719 AND outlier_level = 0)\n",
    "\n",
    "SELECT measured_timestamp, measured_time, device_type\n",
    "FROM nuit_blanche\n",
    "INNER JOIN bluetooth.class_of_device USING (cod)\n",
    "WHERE device_type IN ('WiFi', 'Hands-free Device', 'Cellular', 'Smart phone') AND cod > 0  \n",
    "'''\n",
    "\n",
    "nuit_blanche = pandasql.read_sql(sql, con)"
   ]
  },
  {
   "cell_type": "code",
   "execution_count": 9,
   "metadata": {
    "collapsed": false
   },
   "outputs": [
    {
     "data": {
      "image/png": "[encoded data removed]",
      "text/plain": [
       "<matplotlib.figure.Figure at 0xb81b550>"
      ]
     },
     "metadata": {},
     "output_type": "display_data"
    }
   ],
   "source": [
    "NUM_COLORS = 3\n",
    "groups = nuit_blanche.groupby('device_type')\n",
    "\n",
    "fig, ax = plt.subplots(1,1,figsize=(16,9))\n",
    "NUM_COLORS = 5\n",
    "cm = plt.get_cmap('Accent')\n",
    "colors = [cm(1.*i/NUM_COLORS) for i in range(NUM_COLORS)]\n",
    "\n",
    "for i, (device_type, data) in enumerate(groups):\n",
    "    ax.plot(data.measured_timestamp, data.measured_time, marker='o', markersize=10,\n",
    "            alpha=0.9, linestyle='', label=device_type, color=colors[i])\n",
    "ax.legend()\n",
    "plt.gcf().autofmt_xdate()"
   ]
  },
  {
   "cell_type": "markdown",
   "metadata": {},
   "source": [
    "The chart above is **inconclusive**. Observations are all over the place between 18:30 and 08:00 when the street was closed to traffic. It excludes the 96% of observations from WiFi devices.\n",
    "Google Maps gives the minimum walking time from University to Yonge on Queen St. as **420 seconds**, which is below every observation in that time period. \n",
    "We can see right before 18:30 a cluster of Hands-free and Smart phone observations closer to the **120 seconds** driving time according to Maps."
   ]
  },
  {
   "cell_type": "code",
   "execution_count": null,
   "metadata": {
    "collapsed": true
   },
   "outputs": [],
   "source": [
    "sql = ''' SELECT user_id, route_name, measured_timestamp, measured_time/ 60\n",
    "FROM bluetooth.observations_201709 \n",
    "INNER JOIN (SELECT cod, user_id FROM bluetooth.observations_201709 \n",
    "INNER JOIN bluetooth.class_of_device USING (cod)\n",
    "WHERE measured_timestamp > '2017-09-30 18:30' AND analysis_id IN (1453719, 1453627) AND device_type = 'Hands-free Device') hfd USING (cod, user_id)\n",
    "INNER JOIN bluetooth.all_analyses USING (analysis_id)\n",
    "WHERE measured_timestamp > '2017-09-30 18:30'\n",
    "ORDER BY user_id, measured_timestamp'''"
   ]
  },
  {
   "cell_type": "markdown",
   "metadata": {},
   "source": [
    "## Device type & Baseline\n"
   ]
  },
  {
   "cell_type": "code",
   "execution_count": null,
   "metadata": {
    "collapsed": true
   },
   "outputs": [],
   "source": []
  }
 ],
 "metadata": {
  "kernelspec": {
   "display_name": "Python [Root]",
   "language": "python",
   "name": "Python [Root]"
  },
  "language_info": {
   "codemirror_mode": {
    "name": "ipython",
    "version": 3
   },
   "file_extension": ".py",
   "mimetype": "text/x-python",
   "name": "python",
   "nbconvert_exporter": "python",
   "pygments_lexer": "ipython3",
   "version": "3.5.2"
  }
 },
 "nbformat": 4,
 "nbformat_minor": 0
}
